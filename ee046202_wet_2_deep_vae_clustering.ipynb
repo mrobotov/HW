{
  "cells": [
    {
      "cell_type": "markdown",
      "metadata": {
        "id": "zGDP1NYJvA7E"
      },
      "source": [
        "# <img src=\"https://img.icons8.com/dusk/64/000000/artificial-intelligence.png\" style=\"height:50px;display:inline\"> EE 046202 - Technion - Unsupervised Learning & Data Analysis\n",
        "---\n",
        "\n",
        "## Computer Assignment 2 - Variational Autoencoders & Clustering\n",
        "---\n",
        "\n",
        "### <img src=\"https://img.icons8.com/bubbles/50/000000/checklist.png\" style=\"height:50px;display:inline\"> Agenda\n",
        "---\n",
        "* Variational Autoencoders (VAEs)\n",
        "    * $\\beta$-VAE\n",
        "    * Conditional VAE (CVAE)\n",
        "    * BONUS: Generating Pokemons\n",
        "* Clustering with GNNs\n",
        "\n",
        "#### Use as many cells as you need\n",
        "#### אפשר גם לכתוב בעברית, אבל עדיף באנגלית\n",
        "\n",
        "* Code Tasks are denoted with: <img src=\"https://img.icons8.com/color/48/null/code.png\">\n",
        "* Questions (which you need to answer in a Markdown cell) are denoted with: <img src=\"https://img.icons8.com/bubbles/48/000000/ask-question.png\">"
      ]
    },
    {
      "cell_type": "markdown",
      "metadata": {
        "id": "ZMC-KFCGvA7I"
      },
      "source": [
        "### <img src=\"https://img.icons8.com/bubbles/50/null/information.png\" style=\"height:50px;display:inline\"> Students Information\n",
        "---\n",
        "* Fill in\n",
        "\n",
        "|Name     |Campus Email| ID  |\n",
        "|---------|--------------------------------|----------|\n",
        "|Student 1| student_1@campus.technion.ac.il| 123456789|\n",
        "|Student 2| student_2@campus.technion.ac.il| 987654321|\n"
      ]
    },
    {
      "cell_type": "markdown",
      "metadata": {
        "id": "-CDHTm_zvA7J"
      },
      "source": [
        "### <img src=\"https://img.icons8.com/bubbles/50/null/upload-to-cloud.png\" style=\"height:50px;display:inline\"> Submission Guidelines\n",
        "---\n",
        "* Maximal garde: **100** (even with the bonus, the grade will not be above 100).\n",
        "    * Example: if you got 5 points bonus, but you were right in all sections, your grade will still be 100 (and not 105).\n",
        "    * Example: if you got 5 points bonus, and 6 points were deducted for wrong answers, your grade will be 99.\n",
        "* Submission only in **pairs**. \n",
        "    * Please make sure you have registered your group in Moodle (there is a group creation component on the Moodle where you need to create your group and assign members).\n",
        "* **BONUS**:\n",
        "    * 5 points - completing the Pokemon task with *fully-connected* layers (black & white version)\n",
        "    * 10 points - completing the Pokemon task with *convolutional* layers (RGB version)\n",
        "* **No handwritten submissions.** You can choose whether to answer in a Markdown cell in this notebook or attach a PDF with your answers.\n",
        "* <a style='color:red'> SAVE THE NOTEBOOKS WITH THE OUTPUT, CODE CELLS THAT WERE NOT RUN WILL NOT GET ANY POINTS! </a>\n",
        "* What you have to submit:\n",
        "    * Submit a `.zip` file with the name `ee046202_wet2_id1_id2.zip` with content:\n",
        "        * `ee046202_wet2_id1_id2.ipynb` - the code tasks\n",
        "        * `ee046202_wet2_id1_id2.pdf` - answers to questions. If you solved everything in the notebook, print the notebook as pdf.\n",
        "    * No other file-types (`.py`, `.docx`...) will be accepted.\n",
        "* Submission on the course website (Moodle).\n",
        "* **Latex in Colab** - in some cases, Latex equations may no be rendered. To avoid this, make sure to not use *bullets* in your answers (\"* some text here with Latex equations\" -> \"some text here with Latex equations\")."
      ]
    },
    {
      "cell_type": "markdown",
      "metadata": {
        "id": "a72fLpYxvA7K"
      },
      "source": [
        "### <img src=\"https://img.icons8.com/clouds/96/null/keyboard.png\" style=\"height:50px;display:inline\"> Keyboard Shortcuts\n",
        "---\n",
        "* Run current cell: **Ctrl + Enter**\n",
        "* Run current cell and move to the next: **Shift + Enter**\n",
        "* Show lines in a code cell: **Esc + L**\n",
        "* View function documentation: **Shift + Tab** inside the parenthesis or `help(name_of_module)`\n",
        "* New cell below: **Esc + B**\n",
        "* Delete cell: **Esc + D, D** (two D's)"
      ]
    },
    {
      "cell_type": "markdown",
      "metadata": {
        "id": "3qWydoMtvA7K"
      },
      "source": [
        "### <img src=\"https://img.icons8.com/cute-clipart/64/null/info.png\" style=\"height:50px;display:inline\"> Tip\n",
        "---\n",
        "If you find it more convenient, you can copy the section to a new cell, and answer the question or rite the code just right below it. For example:\n",
        "\n",
        "#### Question 0\n",
        "1. What is the best course in the Technion?\n",
        "2. Why does no one pick Bulbasaur as first pokemon?\n",
        "3. Why is there no superhero named Catman?\n",
        "\n",
        "#### Answers - Q0\n",
        "\n",
        "#### Q0 - Section 1\n",
        "* Q: What is the best course in the Technion?"
      ]
    },
    {
      "cell_type": "code",
      "execution_count": null,
      "metadata": {
        "scrolled": false,
        "id": "m0-y-er4vA7L"
      },
      "outputs": [],
      "source": [
        "print(\"ANAM!\")"
      ]
    },
    {
      "cell_type": "markdown",
      "metadata": {
        "id": "9EnxnmtsvA7N"
      },
      "source": [
        "#### Q0 - Section 2\n",
        "* Q: Why does no one pick Bulbasaur as first pokemon?\n",
        "\n",
        "It is really a riddle....\n",
        "\n",
        "#### Q0 - Section 3\n",
        "* Q: Why is there no superhero named Catman?\n",
        "\n",
        "I got nothing."
      ]
    },
    {
      "cell_type": "markdown",
      "metadata": {
        "id": "YaaQaPHHvA7O"
      },
      "source": [
        "### <img src=\"https://img.icons8.com/cotton/64/null/grand-master-key.png\" style=\"height:50px;display:inline\"> Part 1 - Variational Autoencoders - Prologue\n",
        "---\n",
        "In this section of the exercise we will analyze the VAE and introduce an enhacement called $\\beta$-VAE and also a variation of VAE that allows us some control over the latent space using conditional probability - Conditional Variational Autoencoder.\n",
        "\n",
        "For this part, you are provided the original implementation of the VAE from the tutorial. You will have to modify it throughout the tasks (yes, you can copy-paste from the original implementation).\n",
        "* **Note** - for better results you should tune the model!\n",
        "    * You can add layers / hidden units / different activations (ReLU, TanH, LeakyReLU, Sigmoid...)\n",
        "    * You can choose a different optimizer than Adam (SGD, RMSProp...), tune the learning rate...\n",
        "    * You can change the reconstruction loss (BCE, MSE, L1...)\n",
        "    * Other hyper-parameters like the batch-size, number of epochs and etc...\n",
        "\n",
        "We recommend running this part on Google Colab or on a GPU (if you have an access to one). Note that running on a GPU will lead to about x2 speedup in training. "
      ]
    },
    {
      "cell_type": "code",
      "execution_count": 4,
      "metadata": {
        "id": "mTvI9GwivA7P"
      },
      "outputs": [],
      "source": [
        "# imports for the exrcise - part 1\n",
        "# you can add more if you wish (but it is not really needed)\n",
        "import numpy as np\n",
        "import pandas as pd\n",
        "import matplotlib.pyplot as plt\n",
        "import time\n",
        "\n",
        "# pytorch imports\n",
        "import torch\n",
        "import torch.nn as nn\n",
        "import torch.nn.functional as F\n",
        "from torch.utils.data import DataLoader, Dataset, ConcatDataset\n",
        "import torchvision"
      ]
    },
    {
      "cell_type": "code",
      "execution_count": 5,
      "metadata": {
        "id": "n7fIUDSlvA7P"
      },
      "outputs": [],
      "source": [
        "# the original implementation from the tutorial - leave untouched (for your own sake), copy-paste what you need to another cell\n",
        "\n",
        "# reparametrization trick\n",
        "def reparameterize(mu, logvar, device=torch.device(\"cpu\")):\n",
        "    \"\"\"\n",
        "    This function applies the reparameterization trick:\n",
        "    z = mu(X) + sigma(X)^0.5 * epsilon, where epsilon ~ N(0,I)\n",
        "    :param mu: mean of x\n",
        "    :param logvar: log variance of x\n",
        "    :param device: device to perform calculations on\n",
        "    :return z: the sampled latent variable\n",
        "    \"\"\"\n",
        "    std = torch.exp(0.5 * logvar)\n",
        "    eps = torch.randn_like(std).to(device)\n",
        "    return mu + eps * std\n",
        "\n",
        "\n",
        "# encoder - Q(z|X)\n",
        "class VaeEncoder(torch.nn.Module):\n",
        "    \"\"\"\n",
        "       This class builds the encoder for the VAE\n",
        "       :param x_dim: input dimensions\n",
        "       :param hidden_size: hidden layer size\n",
        "       :param z_dim: latent dimensions\n",
        "       :param device: cpu or gpu\n",
        "       \"\"\"\n",
        "\n",
        "    def __init__(self, x_dim=28*28, hidden_size=256, z_dim=10, device=torch.device(\"cpu\")):\n",
        "        super(VaeEncoder, self).__init__()\n",
        "        self.x_dim = x_dim\n",
        "        self.hidden_size = hidden_size\n",
        "        self.z_dim = z_dim\n",
        "        self.device = device\n",
        "        \n",
        "        self.features = nn.Sequential(nn.Linear(x_dim, self.hidden_size),\n",
        "                                      nn.ReLU())\n",
        "        \n",
        "        self.fc1 = nn.Linear(self.hidden_size, self.z_dim, bias=True)  # fully-connected to output mu\n",
        "        self.fc2 = nn.Linear(self.hidden_size, self.z_dim, bias=True)  # fully-connected to output logvar\n",
        "\n",
        "\n",
        "    def bottleneck(self, h):\n",
        "        \"\"\"\n",
        "        This function takes features from the encoder and outputs mu, log-var and a latent space vector z\n",
        "        :param h: features from the encoder\n",
        "        :return: z, mu, log-variance\n",
        "        \"\"\"\n",
        "        mu, logvar = self.fc1(h), self.fc2(h)\n",
        "        # use the reparametrization trick as torch.normal(mu, logvar.exp()) is not differentiable\n",
        "        z = reparameterize(mu, logvar, device=self.device)\n",
        "        return z, mu, logvar\n",
        "\n",
        "    def forward(self, x):\n",
        "        \"\"\"\n",
        "        This is the function called when doing the forward pass:\n",
        "        z, mu, logvar = VaeEncoder(X)\n",
        "        \"\"\"\n",
        "        h = self.features(x)\n",
        "        z, mu, logvar = self.bottleneck(h)\n",
        "        return z, mu, logvar\n",
        "\n",
        "    \n",
        "class VaeDecoder(torch.nn.Module):\n",
        "    \"\"\"\n",
        "       This class builds the decoder for the VAE\n",
        "       :param x_dim: input dimensions\n",
        "       :param hidden_size: hidden layer size\n",
        "       :param z_dim: latent dimensions\n",
        "       \"\"\"\n",
        "\n",
        "    def __init__(self, x_dim=28*28, hidden_size=256, z_dim=10):\n",
        "        super(VaeDecoder, self).__init__()\n",
        "        self.x_dim = x_dim\n",
        "        self.hidden_size = hidden_size\n",
        "        self.z_dim = z_dim\n",
        "        \n",
        "        self.decoder = nn.Sequential(nn.Linear(self.z_dim, self.hidden_size),\n",
        "                                     nn.ReLU(),\n",
        "                                     nn.Linear(self.hidden_size, self.x_dim),\n",
        "                                     nn.Sigmoid())\n",
        "        # why we use sigmoid? becaue the pixel values of images are in [0,1] and sigmoid(x) does just that!\n",
        "        # if you don't work with images, you don't have to use that.\n",
        "\n",
        "\n",
        "    def forward(self, x):\n",
        "        \"\"\"\n",
        "        This is the function called when doing the forward pass:\n",
        "        x_reconstruction = VaeDecoder(z)\n",
        "        \"\"\"\n",
        "        x = self.decoder(x)\n",
        "        return x\n",
        "    \n",
        "\n",
        "class Vae(torch.nn.Module):\n",
        "    def __init__(self, x_dim=28*28, z_dim=10, hidden_size=256, device=torch.device(\"cpu\")):\n",
        "        super(Vae, self).__init__()\n",
        "        self.device = device\n",
        "        self.z_dim = z_dim\n",
        "\n",
        "        self.encoder = VaeEncoder(x_dim, hidden_size, z_dim=z_dim, device=device)\n",
        "        self.decoder = VaeDecoder(x_dim, hidden_size, z_dim=z_dim)\n",
        "\n",
        "    def encode(self, x):\n",
        "        z, mu, logvar = self.encoder(x)\n",
        "        return z, mu, logvar\n",
        "\n",
        "    def decode(self, z):\n",
        "        x = self.decoder(z)\n",
        "        return x\n",
        "\n",
        "    def sample(self, num_samples=1):\n",
        "        \"\"\"\n",
        "        This functions generates new data by sampling random variables and decoding them.\n",
        "        Vae.sample() actually generatess new data!\n",
        "        Sample z ~ N(0,1)\n",
        "        \"\"\"\n",
        "        z = torch.randn(num_samples, self.z_dim).to(self.device)\n",
        "        return self.decode(z)\n",
        "\n",
        "    def forward(self, x):\n",
        "        \"\"\"\n",
        "        This is the function called when doing the forward pass:\n",
        "        return x_recon, mu, logvar, z = Vae(X)\n",
        "        \"\"\"\n",
        "        z, mu, logvar = self.encode(x)\n",
        "        x_recon = self.decode(z)\n",
        "        return x_recon, mu, logvar, z\n",
        "    \n",
        "\n",
        "def loss_function(recon_x, x, mu, logvar, loss_type='bce'):\n",
        "    \"\"\"\n",
        "    This function calculates the loss of the VAE.\n",
        "    loss = reconstruction_loss - 0.5 * sum(1 + log(sigma^2) - mu^2 - sigma^2)\n",
        "    :param recon_x: the reconstruction from the decoder\n",
        "    :param x: the original input\n",
        "    :param mu: the mean given X, from the encoder\n",
        "    :param logvar: the log-variance given X, from the encoder\n",
        "    :param loss_type: type of loss function - 'mse', 'l1', 'bce'\n",
        "    :return: VAE loss\n",
        "    \"\"\"\n",
        "    if loss_type == 'mse':\n",
        "        recon_error = F.mse_loss(recon_x, x, reduction='sum')\n",
        "    elif loss_type == 'l1':\n",
        "        recon_error = F.l1_loss(recon_x, x, reduction='sum')\n",
        "    elif loss_type == 'bce':\n",
        "        recon_error = F.binary_cross_entropy(recon_x, x, reduction='sum')\n",
        "    else:\n",
        "        raise NotImplementedError\n",
        "\n",
        "    # see Appendix B from VAE paper:\n",
        "    # Kingma and Welling. Auto-Encoding Variational Bayes. ICLR, 2014\n",
        "    # https://arxiv.org/abs/1312.6114\n",
        "    # 0.5 * sum(1 + log(sigma^2) - mu^2 - sigma^2)\n",
        "    kl = -0.5 * torch.sum(1 + logvar - mu.pow(2) - logvar.exp())\n",
        "    return (recon_error + kl) / x.size(0)\n",
        "\n"
      ]
    },
    {
      "cell_type": "markdown",
      "metadata": {
        "id": "ZLTzD1T6vA7R"
      },
      "source": [
        "### <img src=\"https://img.icons8.com/color/48/null/code.png\" style=\"height:50px;display:inline\"> Task 1 - $\\beta$-VAE\n",
        "---\n",
        "In the standard VAE, an isotropic Gaussian ($p(z) \\sim \\mathcal{N}(0, I)$) is typically assumed as the prior distribution for z. Note that under this distribution the components of z are independent (e.g. disentangled - a disentangled representation can be defined as one where single latent units are sensitive to changes in single generative factors, while being relatively invariant to changes in other factors) which is exactly the property we would like our approximate posterior distribution (e.g. $q(z|x)$) to have. Thus, to encourage independence we increase the KL-divergence term in the ELBO by a factor of $\\beta$: $$ \\mathcal{L}_{\\beta-VAE} = -\\mathbb{E}_{q_{\\phi(z|x)}}[p_{\\theta}(x|z)] + \\beta \\cdot D_{KL}[q_{\\theta}(z|x) || p(z)]  $$\n",
        "   * Training is performed exactly the same as for the standard VAE.\n",
        "   * When $\\beta=1$, it is same as VAE.\n",
        "   * When $\\beta>1$, it applies a stronger constraint on the latent bottleneck and limits the representation capacity of $z$. \n",
        "       * For some conditionally independent generative factors, keeping them disentangled is the most efficient representation.\n",
        "   * When $0<\\beta<1$, it can be interpreted as optimizing an approximate log marginal likelihood bound under an alternative prior, regularized to prevent degeneracy (of the KL-divergence).\n",
        "   \n",
        "The tasks:\n",
        "1. Modify the loss function to support $\\beta$-VAE. The function should return the reconstruction loss, the kl-divergence (**without the multiplication by $\\beta$**) and the total loss.\n",
        "    * The signature of the function should be: `beta_loss_function(recon_x, x, mu, logvar, loss_type='bce', beta=1)`\n",
        "    * The reconstruction loss, the kl-divergence and and the total loss should be normalzied by the batch size.\n",
        "    * The returned reconstruction loss and kl-divergence should be converted to numpy: `kl_d.data.cpu().numpy()` (but only them, not the total loss)\n",
        "2. Load the MNIST dataset, as in the tutorial, and create a train loader.\n",
        "3. For $\\beta=[0.05, 0.5, 1, 5]$, train a $\\beta$-VAE for 50 epochs and keep track of:\n",
        "    * The average reconstruction loss in each epoch\n",
        "    * The average KL-divergence in each epoch\n",
        "    * A checkpoint of the network in the format: `beta_(value of beta)_vae_50_epochs.pth` (there is an example in the tutorial)\n",
        "        * DO NOT SUBMIT THE CHECKPOINTS, THEY ARE FOR YOU TO USE.\n",
        "    * This may take a while, so go grab a coffee in the meantime :)\n",
        "4. For $\\beta=[0.05, 0.5, 1, 5]$, plot the KL-divergence and reconstruction error vs. epochs.\n",
        "5. For $\\beta=[0.05, 0.5, 1, 5]$, generate 5 samples from the VAE and plot them (`imshow`...). Run this a couple of times to get an impression of the samples for each $\\beta$.\n",
        "\n",
        "\n",
        "* Notes:\n",
        "    * Be organized - separate to different code cells if it keeps you organized.\n",
        "    * Make sure to properly define the hyper-parameters (see tutorial), and define the `device` automatically. Don't forget to send all the models and tensors to the device. We will run your code on a GPU.\n",
        "    * If you are not satisfied with the results, and you have time, you can try and increase the number of epochs to 100, and see what happens."
      ]
    },
    {
      "cell_type": "markdown",
      "source": [
        "**Answers:**\n",
        "\n",
        "1) Beta loss function"
      ],
      "metadata": {
        "id": "r7yvzNM12aLG"
      }
    },
    {
      "cell_type": "code",
      "source": [
        "def beta_loss_function(recon_x, x, mu, logvar, loss_type='bce',beta=1):\n",
        "    \"\"\"\n",
        "    This function calculates the loss of the VAE.\n",
        "    loss = reconstruction_loss - 0.5 * sum(1 + log(sigma^2) - mu^2 - sigma^2)\n",
        "    :param recon_x: the reconstruction from the decoder\n",
        "    :param x: the original input\n",
        "    :param mu: the mean given X, from the encoder\n",
        "    :param logvar: the log-variance given X, from the encoder\n",
        "    :param loss_type: type of loss function - 'mse', 'l1', 'bce'\n",
        "    :return: VAE loss\n",
        "    \"\"\"\n",
        "    if loss_type == 'mse':\n",
        "        recon_error = F.mse_loss(recon_x, x, reduction='sum')\n",
        "    elif loss_type == 'l1':\n",
        "        recon_error = F.l1_loss(recon_x, x, reduction='sum')\n",
        "    elif loss_type == 'bce':\n",
        "        recon_error = F.binary_cross_entropy(recon_x, x, reduction='sum')\n",
        "    else:\n",
        "        raise NotImplementedError\n",
        "\n",
        "    # see Appendix B from VAE paper:\n",
        "    # Kingma and Welling. Auto-Encoding Variational Bayes. ICLR, 2014\n",
        "    # https://arxiv.org/abs/1312.6114\n",
        "    # 0.5 * sum(1 + log(sigma^2) - mu^2 - sigma^2)\n",
        "    kl = -0.5 * torch.sum(1 + logvar - mu.pow(2) - logvar.exp())\n",
        "    return recon_error.data.cpu().numpy() / x.size(0), kl.data.cpu().numpy() / x.size(0) ,(recon_error + beta*kl) / x.size(0) "
      ],
      "metadata": {
        "id": "dkqddjTT3DAB"
      },
      "execution_count": 6,
      "outputs": []
    },
    {
      "cell_type": "markdown",
      "source": [
        "\n",
        "2) download data set and show some examples"
      ],
      "metadata": {
        "id": "JCxwnSuF29EQ"
      }
    },
    {
      "cell_type": "code",
      "execution_count": 7,
      "metadata": {
        "colab": {
          "base_uri": "https://localhost:8080/",
          "height": 742,
          "referenced_widgets": [
            "dea420e8c3764a2fb9049d39cfe3ef6e",
            "7648b2bbafe843778904403806266519",
            "8d4c62f5d6d04782849825eb93e71f02",
            "de36a1b5ac984685a53f13e85ab9a100",
            "fcc4b47614cb4b7bafee04210d6c21df",
            "babf9c2d00c0449e9fc96359fdc10213",
            "817de508d39a44f4a11cfef07ee2d198",
            "60a2b9cf16004121aacc85bb346b4775",
            "606839e2b7804dcea4013710192fdb4f",
            "dc87a99b6a9349c68e0d1f7e8832e271",
            "3329588626784f9e80380fcce7173a32",
            "6f3fa2584a81493c92855e67492eb822",
            "93b3966973f8472481b86656c66cc8ca",
            "7776ccaf700e4e0b9eb295bc6f9df8a3",
            "f0abad9e61f3450bbe18493de1133bf1",
            "6bb3f20e79ff491ea20c285c5d8f65bf",
            "57bd58dfe1f546c98e9694e331da78be",
            "dbcd07ab24494f38a26b9a56f28bea71",
            "9c974904004847aebbc845a0fd075c3a",
            "618eb08008ab473685fd0e7e244eb49e",
            "6f291c4eb8744f6b80ea5679b982a25a",
            "6c7ab9f535714c118026fec17e034ff2",
            "222049d7f6b04e2da9efa04075acd2b7",
            "69214e1d522d4be292d4b5c7e8b714c1",
            "71f4ac103e3b4e3fa569a70ebdd2d8f4",
            "86e0dd652f7f44c2b4d3897035477882",
            "890885879f0a4c1d85ac5b62bb826fd1",
            "0cab0e9aef5e42958cfc3c5c60f2c107",
            "21c5376d67824d7289378bd4b433d588",
            "5ca8d0048be74b2f8a4c7cbf2ad48e13",
            "2c9640a464914ad294acc1bcd8874afa",
            "533aef617ae847aa9293103072be5803",
            "8df9df15d99e42aab1ecdbd757496e94",
            "3995e93dd93c40d4830c9d797e25e866",
            "795267b4f8c041fdb61148a6b035417d",
            "95391dc2e72a41e9b9adb926358218b5",
            "c166acabb5614a629932d4e449e9ef04",
            "ddfe6487cbba4cf39dfec47c04b1c93e",
            "a7f53884c102461f862f6c3534e5e82a",
            "d788bb7dd7804649a8542b0af0f53aba",
            "0eb547284dd54e3ba33a2cd7442114e4",
            "4a0c154fd4d3458d8d8917845b8eeea8",
            "5ed4723440fa4a1aafa76a861bf9dc4f",
            "3c4b523da9cb4ce0aea380f64c3aca76"
          ]
        },
        "id": "9ab7eDnXvA7R",
        "outputId": "f285d548-ce39-4ae9-8742-4ea2d08db948"
      },
      "outputs": [
        {
          "output_type": "stream",
          "name": "stdout",
          "text": [
            "Downloading http://yann.lecun.com/exdb/mnist/train-images-idx3-ubyte.gz\n",
            "Downloading http://yann.lecun.com/exdb/mnist/train-images-idx3-ubyte.gz to ./datasets/MNIST/raw/train-images-idx3-ubyte.gz\n"
          ]
        },
        {
          "output_type": "display_data",
          "data": {
            "text/plain": [
              "  0%|          | 0/9912422 [00:00<?, ?it/s]"
            ],
            "application/vnd.jupyter.widget-view+json": {
              "version_major": 2,
              "version_minor": 0,
              "model_id": "dea420e8c3764a2fb9049d39cfe3ef6e"
            }
          },
          "metadata": {}
        },
        {
          "output_type": "stream",
          "name": "stdout",
          "text": [
            "Extracting ./datasets/MNIST/raw/train-images-idx3-ubyte.gz to ./datasets/MNIST/raw\n",
            "\n",
            "Downloading http://yann.lecun.com/exdb/mnist/train-labels-idx1-ubyte.gz\n",
            "Downloading http://yann.lecun.com/exdb/mnist/train-labels-idx1-ubyte.gz to ./datasets/MNIST/raw/train-labels-idx1-ubyte.gz\n"
          ]
        },
        {
          "output_type": "display_data",
          "data": {
            "text/plain": [
              "  0%|          | 0/28881 [00:00<?, ?it/s]"
            ],
            "application/vnd.jupyter.widget-view+json": {
              "version_major": 2,
              "version_minor": 0,
              "model_id": "6f3fa2584a81493c92855e67492eb822"
            }
          },
          "metadata": {}
        },
        {
          "output_type": "stream",
          "name": "stdout",
          "text": [
            "Extracting ./datasets/MNIST/raw/train-labels-idx1-ubyte.gz to ./datasets/MNIST/raw\n",
            "\n",
            "Downloading http://yann.lecun.com/exdb/mnist/t10k-images-idx3-ubyte.gz\n",
            "Downloading http://yann.lecun.com/exdb/mnist/t10k-images-idx3-ubyte.gz to ./datasets/MNIST/raw/t10k-images-idx3-ubyte.gz\n"
          ]
        },
        {
          "output_type": "display_data",
          "data": {
            "text/plain": [
              "  0%|          | 0/1648877 [00:00<?, ?it/s]"
            ],
            "application/vnd.jupyter.widget-view+json": {
              "version_major": 2,
              "version_minor": 0,
              "model_id": "222049d7f6b04e2da9efa04075acd2b7"
            }
          },
          "metadata": {}
        },
        {
          "output_type": "stream",
          "name": "stdout",
          "text": [
            "Extracting ./datasets/MNIST/raw/t10k-images-idx3-ubyte.gz to ./datasets/MNIST/raw\n",
            "\n",
            "Downloading http://yann.lecun.com/exdb/mnist/t10k-labels-idx1-ubyte.gz\n",
            "Downloading http://yann.lecun.com/exdb/mnist/t10k-labels-idx1-ubyte.gz to ./datasets/MNIST/raw/t10k-labels-idx1-ubyte.gz\n"
          ]
        },
        {
          "output_type": "display_data",
          "data": {
            "text/plain": [
              "  0%|          | 0/4542 [00:00<?, ?it/s]"
            ],
            "application/vnd.jupyter.widget-view+json": {
              "version_major": 2,
              "version_minor": 0,
              "model_id": "3995e93dd93c40d4830c9d797e25e866"
            }
          },
          "metadata": {}
        },
        {
          "output_type": "stream",
          "name": "stdout",
          "text": [
            "Extracting ./datasets/MNIST/raw/t10k-labels-idx1-ubyte.gz to ./datasets/MNIST/raw\n",
            "\n"
          ]
        },
        {
          "output_type": "display_data",
          "data": {
            "text/plain": [
              "<Figure size 576x360 with 6 Axes>"
            ],
            "image/png": "[encoded data removed]"
          },
          "metadata": {
            "needs_background": "light"
          }
        }
      ],
      "source": [
        "# your code here - you can use as many cells as you need\n",
        "transform = torchvision.transforms.ToTensor()\n",
        "train_data = torchvision.datasets.MNIST('./datasets/', train=True, transform=transform,\n",
        " target_transform=None, download=True)\n",
        "test_data = torchvision.datasets.MNIST('./datasets/', train=False, transform=transform,\n",
        " target_transform=None, download=True)\n",
        "sample_dataloader = DataLoader(train_data, batch_size=6, shuffle=True, drop_last=True)\n",
        "fig = plt.figure(figsize=(8 ,5))\n",
        "samples, labels = next(iter(sample_dataloader))\n",
        "for i in range(samples.size(0)):\n",
        " ax = fig.add_subplot(2, 3, i + 1)\n",
        " ax.imshow(samples[i][0, :, :].data.cpu().numpy(), cmap='gray')\n",
        " title = \"digit: \" + str(labels[i].data.cpu().item())\n",
        " ax.set_title(title)\n",
        " ax.set_axis_off()\n"
      ]
    },
    {
      "cell_type": "markdown",
      "source": [],
      "metadata": {
        "id": "-A16Hmk_2YrF"
      }
    },
    {
      "cell_type": "markdown",
      "source": [
        "(3) running for Beta "
      ],
      "metadata": {
        "id": "UzcAjjhk3jc_"
      }
    },
    {
      "cell_type": "code",
      "source": [
        "# define hyper-parameters\n",
        "BETA =  [0.05,0.5,1,5]\n",
        "BATCH_SIZE =  128 # usually 32/64/128/256 was 128\n",
        "LEARNING_RATE = 1e-3 # for the gradient optimizer\n",
        "NUM_EPOCHS = 2 # how many epochs to run? was 50\n"
      ],
      "metadata": {
        "id": "zM-_eFNk2X8m"
      },
      "execution_count": 8,
      "outputs": []
    },
    {
      "cell_type": "code",
      "source": [
        "HIDDEN_SIZE = 256 # size of the hidden layers in the networks\n",
        "X_DIM = 28 * 28 # size of the input dimensio\n",
        "Z_DIM = 10 # size of the latent dimension\n",
        "# training\n",
        "# check if there is gpu avilable, if there is, use it\n",
        "if torch.cuda.is_available():\n",
        " torch.cuda.current_device()\n",
        "device = torch.device(\"cuda:0\" if torch.cuda.is_available() else \"cpu\")\n",
        "# device = torch.device(\"cpu\")\n",
        "print(\"running calculations on: \", device)\n",
        "# load the data\n",
        "dataloader = DataLoader(train_data, batch_size=BATCH_SIZE, shuffle=True, drop_last=True)\n",
        "# create our model and send it to the device (cpu/gpu)\n",
        "vae = Vae(x_dim=X_DIM, z_dim=Z_DIM, hidden_size=HIDDEN_SIZE, device=device).to(device)\n",
        "# optimizer\n",
        "vae_optim = torch.optim.Adam(params=vae.parameters(), lr=LEARNING_RATE)\n",
        "for batch_i, batch in enumerate(dataloader):\n",
        "  x = batch[0].to(device).view(-1, X_DIM) # just the images\n"
      ],
      "metadata": {
        "colab": {
          "base_uri": "https://localhost:8080/"
        },
        "id": "KXT2KgIk3sJZ",
        "outputId": "8b0bdd14-2cbd-4e66-f0d4-59d30ce84943"
      },
      "execution_count": 9,
      "outputs": [
        {
          "output_type": "stream",
          "name": "stdout",
          "text": [
            "running calculations on:  cuda:0\n"
          ]
        }
      ]
    },
    {
      "cell_type": "code",
      "source": [
        "\n",
        "# here we go\n",
        "for beta in BETA:\n",
        "  # save the losses from each epoch, we might want to plot it later\n",
        "  train_losses = []\n",
        "  recon_mean = []\n",
        "  kl_mean = []\n",
        "  for epoch in range(NUM_EPOCHS):\n",
        "    epoch_start_time = time.time()\n",
        "    batch_losses = []\n",
        "    recon_loss = []\n",
        "    kl_loss = []\n",
        "    for batch_i, batch in enumerate(dataloader):\n",
        "      # forward pass\n",
        "      x = batch[0].to(device).view(-1, X_DIM) # just the images\n",
        "      x_recon, mu, logvar, z = vae(x)\n",
        "      # calculate the loss\n",
        "      recon,kl,loss = beta_loss_function(x_recon, x, mu, logvar, loss_type='bce',beta=beta)\n",
        "      # optimization (same 3 steps everytime)\n",
        "      vae_optim.zero_grad()\n",
        "      loss.backward()\n",
        "      vae_optim.step()\n",
        "      # save loss\n",
        "      batch_losses.append(loss.data.cpu().item())\n",
        "      recon_loss.append(recon)\n",
        "      kl_loss.append(kl)\n",
        "    \n",
        "    train_losses.append(np.mean(batch_losses))\n",
        "    print(\"epoch: {} training loss: {:.5f} epoch time: {:.3f} sec\".format(epoch, train_losses[-1],\n",
        "    time.time() - epoch_start_time))\n",
        "    recon_mean.append(np.array(recon_loss).mean())\n",
        "    kl_mean.append(np.array(kl_loss).mean())\n",
        "  # save\n",
        "  fname = \"beta_(\"+str(beta)+\" )_vae_50_epochs.pth\"\n",
        "  torch.save(vae.state_dict(), fname)\n",
        "  print(\"saved checkpoint @\", fname)\n",
        "  fig = plt.figure(figsize=(8 ,5))\n",
        "  ax = fig.add_subplot(1, 2, 1)\n",
        "  ax.set_title(\"Mean Reconstruction loss for Beta = \" + str(beta))\n",
        "  ax.plot(recon_mean)\n",
        "  bx =  fig.add_subplot(1, 2, 2)\n",
        "  bx.set_title(\"Mean Dk loss for Beta = \" + str(beta))\n",
        "  bx.plot(kl_mean)"
      ],
      "metadata": {
        "id": "4flgIgVCnrwt",
        "outputId": "973e0105-9a10-4c3a-e42b-c0bcaabb1ef6",
        "colab": {
          "base_uri": "https://localhost:8080/",
          "height": 1000
        }
      },
      "execution_count": 10,
      "outputs": [
        {
          "output_type": "stream",
          "name": "stdout",
          "text": [
            "epoch: 0 training loss: 150.03409 epoch time: 9.379 sec\n",
            "epoch: 1 training loss: 105.18294 epoch time: 6.698 sec\n",
            "saved checkpoint @ beta_(0.05 )_vae_50_epochs.pth\n",
            "epoch: 0 training loss: 114.79759 epoch time: 6.728 sec\n",
            "epoch: 1 training loss: 110.43267 epoch time: 6.671 sec\n",
            "saved checkpoint @ beta_(0.5 )_vae_50_epochs.pth\n",
            "epoch: 0 training loss: 118.33683 epoch time: 6.955 sec\n",
            "epoch: 1 training loss: 116.74560 epoch time: 6.698 sec\n",
            "saved checkpoint @ beta_(1 )_vae_50_epochs.pth\n",
            "epoch: 0 training loss: 164.57460 epoch time: 6.776 sec\n",
            "epoch: 1 training loss: 162.57416 epoch time: 6.702 sec\n",
            "saved checkpoint @ beta_(5 )_vae_50_epochs.pth\n"
          ]
        },
        {
          "output_type": "display_data",
          "data": {
            "text/plain": [
              "<Figure size 576x360 with 2 Axes>"
            ],
            "image/png": "[encoded data removed]"
          },
          "metadata": {
            "needs_background": "light"
          }
        },
        {
          "output_type": "display_data",
          "data": {
            "text/plain": [
              "<Figure size 576x360 with 2 Axes>"
            ],
            "image/png": "[encoded data removed]"
          },
          "metadata": {
            "needs_background": "light"
          }
        },
        {
          "output_type": "display_data",
          "data": {
            "text/plain": [
              "<Figure size 576x360 with 2 Axes>"
            ],
            "image/png": "[encoded data removed]"
          },
          "metadata": {
            "needs_background": "light"
          }
        },
        {
          "output_type": "display_data",
          "data": {
            "text/plain": [
              "<Figure size 576x360 with 2 Axes>"
            ],
            "image/png": "[encoded data removed]"
          },
          "metadata": {
            "needs_background": "light"
          }
        }
      ]
    },
    {
      "cell_type": "markdown",
      "metadata": {
        "id": "8up70VjKvA7R"
      },
      "source": [
        "### <img src=\"https://img.icons8.com/bubbles/48/000000/ask-question.png\" style=\"height:50px;display:inline\"> Question 1 - $\\beta$-VAE\n",
        "---\n",
        "We will now analyze the results. Answer the following questions:\n",
        "1. Explain intuitively the loss function of $\\beta$-VAE. In your answer, explain the trade-off between the reconstruction loss and the KL-divergence and how it is affected by the $\\beta$ parameter. Hint: think about regularization as you learned in the ML course (for example, in linear regression).\n",
        "2. What is the main trend in the KL and reconstruction loss vs. epochs? In your answer, you should compare between the $\\beta$'s.\n",
        "3. For what values of $\\beta$ you would expect better reconstruction (why would we want better reconstruction?) and for what values you would expect higher-quality samples? In your answer, refer to the blurriness in the samples you plotted.\n",
        "4. Run the cell where you plot the samples (if you separated the cells for each $\\beta$, then run all of them) a couple of times (just hit Ctrl + Enter). For which value of $\\beta$ there is more *diversity* in the samples? (i.e., if out of 6 samples you get four 9's, it is not actually diverse)."
      ]
    },
    {
      "cell_type": "markdown",
      "metadata": {
        "id": "hJNDgu0avA7S"
      },
      "source": [
        "### <img src=\"https://img.icons8.com/color/48/null/code.png\" style=\"height:50px;display:inline\"> Task 2 - Conditional VAE (CVAE)\n",
        "---\n",
        "Conditional Variational Autoencoder (CVAE) is an extension of Variational Autoencoder (VAE).\n",
        "However, as you may have noticed, we have no control on the data generation process of the VAE. That is, for example, on MNIST, we could not control the latent space, and when we sampled, we would not know what digit would be generated. This could be problematic if we want to generate some specific data. As an example, suppose we want to convert a unicode character to handwriting. In vanilla VAE, there is no way to generate the handwriting based on the character that the user inputted. Concretely, suppose the user inputted character ‘2’, how do we generate handwriting image that is a character ‘2’? We couldn’t.\n",
        "\n",
        "Hence, CVAE was developed. Whereas VAE essentially models latent variables and data directly, CVAE models latent variables and data, both conditioned to some random variables.\n",
        "Recall, on VAE, the objective is:\n",
        "$$\\log P(X) -  D_{KL}[Q(z|X) || P(z|X)]  =  \\mathbb{E}_{Q(z|X)}[\\log P(X|z)] -D_{KL}[Q(z|X)|| P(z)]  $$\n",
        "that is, we want to optimize the log likelihood of our data $P(X)$ under some “encoding” error. The original VAE model has two parts: the encoder $Q(x|Z)$ and the decoder $P(X|z)$.\n",
        "\n",
        "If we focus on the encoder, it models the latent variable $z$ directly based on $X$, and it doesn't care about the different types of $X$ (e.g., it doesn't care if it is 1 or an 8). But wait, this was all the idea of **unsupervised learning**, we have no access to labels. Well, in this case, we have some information (thus, CVAE is sometimes referred to as **semi-supervised** learning model).\n",
        "\n",
        "Similarly, in the decoder part, it only models $X$ directly based on the latent variable $z$. So, how do we tell the VAE what we want to generate? We can condition encoder and decoder to another things, let's denote them with $c$ (for \"condition\").\n",
        "\n",
        "* The encoder is now conditioned on 2 variables- $X, c$: $Q(z|X,c)$ and the decoder in now conditioned on- $z$, $c$: $P(X|z,c)$\n",
        "* Hence, our variational lower bound objective is now in this following form: $$ \\log P(X|c) -  D_{KL}[Q(z|X,c) || P(z|X,c)]  =  \\mathbb{E}_{Q(z|X,c)}[\\log P(X|z,c)] -D_{KL}[Q(z|X,c)|| P(z|c)] $$ (we just conditioned all of the distributions with a variable $c$)\n",
        "* So what is different? Almost nothing! We still model $P(z|c) \\sim \\mathcal{N}(0,I)$, and the rest are modeled by the neural network.\n",
        "* But how is it done in practice? Simple! **Concatenation**: instead of encoding $X$, we encoded $[X,c]$, that is, we concatenate them. Same for the decoder: we take the latent variable $z$ and concatenate with $c$ and then the input of the decoder is $[z,c]$.\n",
        "* In PyTorch, we concatenate with `x = torch.cat([x, x_cond], dim=1)` (the 0 dimension is the batch dimension).\n",
        "\n",
        "The tasks:\n",
        "* Load the Fashion-MNIST dataset, as in the tuorial, and create a train loader. Note that you get both the images and their **labels**.\n",
        "* The labels are the classes (0-9). In order to use them in the network we need to convert them to one-hot vectors (0 -> [1,0,0,0,0,0,0,0,0,0], 1 -> [0,1,0,0,0,0,0,0,0,0] ...). The length of the one hot vector in as the number of classes. You are given a function that converts ints to one-hot vectors, use it on the labels, before you perform the concatenation.\n",
        "* Modify the VAE architecture to support conditionals.\n",
        "    * Copy-paste the skeleton (the original VAE, from the begining of the tutorial), and just modify the current functions. Note that there **are very few** changes needed.\n",
        "    * Here are some tips, but feel free to implement as you wish, as long as it works:\n",
        "        * In Python, you can let a function input be `None`, and then if the user inputs something that is not `None`, the function would act different. Here is an example: `def encode(x, x_cond=None): if x_cond is not None: ...`\n",
        "        * Here are the parts that we recommend you change:\n",
        "            * In the Vae module:\n",
        "                * `def __init__(self, x_dim=28*28, z_dim=10, hidden_size=256, device=torch.device(\"cpu\"), cond_dim=None)`\n",
        "                * `def sample(self, num_samples=1, x_cond=None)`\n",
        "                * `def forward(self, x, x_cond=None)`\n",
        "            * Note that these are the minimal changes that can be done to implement VAE that supports CVAE. No need to modify VaeEncoder and VaeDecoder when we are using fully-connected layers. However, if we were to use convolutional layers, we would have to change also the encoder and decoder since convolutional layers work on images, and only after the images features from the convolutional layers have been extracted, we would concatenate the the condional $c$ (just before the fully-connected layers that output $\\mu, \\sigma$.\n",
        "* Train CVAE on the Fashion-MNIST dataset (100 epochs, at least). Use $\\beta$-VAE loss function (it shouldn't have changed from the regular VAE. Save a checkpoint of the network in the format: `fmnist_beta_(value of beta)_cvae_(number of epochs)_epochs.pth`. The rest of the hyper-parameters are up to you.\n",
        "* Plot $n_{samples}=6$ from the CVAE for 6 classes of your choosing.\n",
        "* **Tip**: this may take a while, so if everything seems to work, let it run on Google Colab and go grab another coffee."
      ]
    },
    {
      "cell_type": "code",
      "execution_count": null,
      "metadata": {
        "id": "R4AyXg-NvA7S"
      },
      "outputs": [],
      "source": [
        "def labels_to_one_hots(batch, num_classes=10):\n",
        "    \"\"\"\n",
        "    Converts batch of integes numbers to one-hot vector given the vector length\n",
        "    :param batch: batch of values to convert\n",
        "    :param num_classes: length of the vector\n",
        "    :return: one_hot_batch\n",
        "    \"\"\"\n",
        "    one_hot_batch = torch.zeros(batch.size(0), num_classes).to(batch.device)\n",
        "    for i in range(batch.size(0)):\n",
        "        one_hot_batch[i, int(batch[i].data.cpu().item())] = 1\n",
        "    return one_hot_batch"
      ]
    },
    {
      "cell_type": "code",
      "execution_count": null,
      "metadata": {
        "id": "AZC2EbVAvA7T"
      },
      "outputs": [],
      "source": [
        "# your code here - you can use as many cells as you need"
      ]
    },
    {
      "cell_type": "markdown",
      "metadata": {
        "id": "XAO0E6aqvA7T"
      },
      "source": [
        "### <img src=\"https://img.icons8.com/bubbles/48/null/ask-question.png\" style=\"height:50px;display:inline\"> Question 2 - Conditional VAE\n",
        "---\n",
        "1. Can we perform interpolation of the latent space as we did in the tutorial? What is the meaning of doing **in-class** interpolation in the case of Fashion-MNIST? Explain.\n",
        "2. Why did we convert the the classes number to one-hot vectors? Think of the other inputs to the networks and the values that the neurons accept. What is the risk of using just one number as the condition instead of a vector?\n",
        "3. How is the quality of the samples? How can the quality be improved? In you answer, refer to the bluriness in the samples."
      ]
    },
    {
      "cell_type": "markdown",
      "metadata": {
        "id": "8D9gRORfvA7T"
      },
      "source": [
        "### <img src=\"https://img.icons8.com/color/48/null/code.png\" style=\"height:50px;display:inline\"> Task 2 - BONUS - Pokemon: Gotta Generate 'Em All!\n",
        "---\n",
        "This is a **non-mandatory**, more challenging task. Come back here only if you are done with the rest of the exercise and want to take on a challenge.\n",
        "\n",
        "* Note - you should pick one of the following:\n",
        "    * Fully-connected - work with grayscale images (5 points)\n",
        "    * Convolutional - work with RGB images (10 points)\n",
        "* No matter what type of model you chose, you need to answer the bonus questions that follow the code.\n",
        "\n",
        "In this task we are going to (try) generate new pokemons! Our dataset includes ~900 pokemons. Each sample is a 60x60 image and the type of the pokemon (18 classes). The type is already in one-hot form. If you have access to a GPU, we recommend trying the convolutional version of this task.\n",
        "\n",
        "Let's look at the data, for the **fully-connected** version."
      ]
    },
    {
      "cell_type": "code",
      "execution_count": null,
      "metadata": {
        "id": "2NzQ51XxvA7T"
      },
      "outputs": [],
      "source": [
        "from pokemon_dataset import PokemonDataset\n",
        "poke_data = PokemonDataset(root='./data/pokemon', rgb=False)\n",
        "sample_dataloader = DataLoader(poke_data, batch_size=6, shuffle=True, drop_last=True)"
      ]
    },
    {
      "cell_type": "code",
      "execution_count": null,
      "metadata": {
        "id": "jwq-pgUyvA7U"
      },
      "outputs": [],
      "source": [
        "fig = plt.figure(figsize=(10 ,5))\n",
        "samples, labels = next(iter(sample_dataloader))\n",
        "for i in range(samples.size(0)):\n",
        "    ax = fig.add_subplot(2, 3, i + 1)\n",
        "    ax.imshow(samples[i][0].data.cpu().numpy(), cmap=\"gray\")\n",
        "    ax.set_axis_off()\n",
        "    \n",
        "print(\"can you name these pokemons?\")"
      ]
    },
    {
      "cell_type": "code",
      "execution_count": null,
      "metadata": {
        "id": "zLnqEpK3vA7U"
      },
      "outputs": [],
      "source": [
        "# let's look at the types encoding\n",
        "poke_data.type_to_one_hot"
      ]
    },
    {
      "cell_type": "markdown",
      "metadata": {
        "id": "AnkDrqj_vA7U"
      },
      "source": [
        "**The task**: Implement CVAE for the pokemon dataset, it should not be different than the one you implemented for Fashion-MNIST. The task is to define the model and tune the hyper-parameters. \n",
        "Note that due to being a really small dataset (only 900 examples!) you will need a really large number of epochs to get something. We don't expect to see actual pokemons, but we want to see the that the networks learned something. You will also need a larger latent space dimension, as pokemons are more complex than cloths.\n",
        "\n",
        "* If you have taken the **Computer Vision** course - you should add **data augementations** to the images, to create a more diverse dataset. Recommended augmentations: `RandomHorizontalFlip`, `ColorJitter`, random horizontal translation (up to 5 pixels).\n",
        "\n",
        "\n",
        "\n",
        "* Train CVAE on the pokemon dataset. Save a checkpoint once you are done: `pokemon_beta_(value of beta)_vae_(num epochs)_epochs.pth`.\n",
        "* Plot samples for at least 6 types of your choosing (try to find the better ones).\n",
        "* Plot reconstructions for at least 6 types of your choosing."
      ]
    },
    {
      "cell_type": "code",
      "execution_count": null,
      "metadata": {
        "id": "YN7-UxhGvA7U"
      },
      "outputs": [],
      "source": [
        "# your code here - you can use as many cells as you need"
      ]
    },
    {
      "cell_type": "markdown",
      "metadata": {
        "id": "9xwr-sy4vA7U"
      },
      "source": [
        "### Have access to a GPU and feel adventurous (CNN version)?\n",
        "* If you have completed the fully-connected verion, you can just skip to the bonus questions.\n",
        "\n",
        "If you feel creative and want to work with CNNs, we are giving you the VaeCnnEncoder and VaeCnnDecoder architectures, and all you have to do is implement the Vae class using these, and run the VAE with RGB images.\n",
        "Let's look at the data."
      ]
    },
    {
      "cell_type": "code",
      "execution_count": null,
      "metadata": {
        "id": "6KujiuJVvA7V"
      },
      "outputs": [],
      "source": [
        "from pokemon_dataset import PokemonDataset\n",
        "poke_data = PokemonDataset(root='./data/pokemon', rgb=True)\n",
        "sample_dataloader = DataLoader(poke_data, batch_size=6, shuffle=True, drop_last=True)\n",
        "\n",
        "fig = plt.figure(figsize=(10 ,5))\n",
        "samples, labels = next(iter(sample_dataloader))\n",
        "for i in range(samples.size(0)):\n",
        "    ax = fig.add_subplot(2, 3, i + 1)\n",
        "    ax.imshow(samples[i].permute(1, 2, 0).data.cpu().numpy())  # permute to (Height, Width, Channels)\n",
        "    ax.set_axis_off()\n",
        "    \n",
        "print(\"can you name these pokemons?\")"
      ]
    },
    {
      "cell_type": "markdown",
      "metadata": {
        "id": "gsdOkAS5vA7V"
      },
      "source": [
        "### Your Turn\n",
        "* Impelement the convolutional CVAE and train it. Save a checkpoint `\"pokemon_cnn_beta_(value of beta)_vae_(num epochs)_epochs.pth\"`\n",
        "* Plot samples for at least 6 types of your choosing (try to find the better ones).\n",
        "* Plot reconstructions for at least 6 types of your choosing.\n",
        "\n",
        "\n",
        "* Note that the call to the loss function in the training loop is in the form: `loss = loss_function(x_recon, x.permute(0, 2, 3, 1), mu, logvar, loss_type='bce', beta=beta)`.\n",
        "    * This is because `x_recon` is in the shape (batch_size, H, W, C) and `x` is (batch_size, C, H, W).\n",
        "* Use a lower leraning rate (start with `1e-4`).\n",
        "\n",
        "* Components:\n",
        "    * Conv2D - `nn.Conv2d(in_channels, out_channels, kernel_size, stride)`\n",
        "    * Deconv2d - `nn.ConvTranspose2d(in_channels, out_channels, kernel_size, stride, padding, output_padding)`\n",
        "    * Batch Normalization 1D - `nn.BatchNorm1d(num_features, affine=True)`\n",
        "    * Batch Normalization 2D - `nn.BatchNorm2d(num_features, affine=True)`\n",
        "    * Calculate the convolutional output size with `_get_conv_out(self, shape)` as in tutorial 8.\n",
        "    * FC/Linear - `nn.Linear(in, out)`\n",
        "\n",
        "#### Encoder Architecture - `VaeCnnEncoder(torch.nn.Module)`\n",
        "* Block 1:\n",
        "    * Conv2d - `in_channels=3, out_channels=128, kernel_size=(3, 3), stride=(2, 2), padding=1`\n",
        "    * Batch Normalization 2D - 128 features\n",
        "    * ReLU (or any other activation you want)\n",
        "* Block 2:\n",
        "    * Conv2d - `in_channels=128, out_channels=64*4, kernel_size=(3, 3), stride=(2, 2), padding=1`\n",
        "    * Batch Normalization 2D - $64*4$ features\n",
        "    * ReLU (or any other activation you want)\n",
        "* Block 3:\n",
        "    * Conv2d - `in_channels=64*4, out_channels=64*8, kernel_size=(3, 3), stride=(2, 2), padding=1`\n",
        "    * Batch Normalization 2D - $64*8$ features\n",
        "    * ReLU (or any other activation you want)\n",
        "* FC1 ($\\mu$) - `nn.Linear(self._get_conv_out(x_shape) + self.cond_dim, self.z_dim)`\n",
        "* FC1 ($\\Sigma$) - `nn.Linear(self._get_conv_out(x_shape) + self.cond_dim, self.z_dim)`\n",
        "\n",
        "#### Decoder Architecture - `VaeCnnDecoder(torch.nn.Module)`\n",
        "* FC1 ($z$) - `nn.Linear(self.z_dim (+cond_dim), 64 * 4 * 4 * 4)`\n",
        "* Batch Normalization 1D - $64*4*4*4$ features.\n",
        "* Block 1:\n",
        "    * Deconv2d - `in_channels=64 * 4, 64 * 2, kernel_size=(3, 3), stride=(2, 2), padding=1, output_padding=1`\n",
        "    * Batch Normalization 2D - 128 features\n",
        "    * ReLU (or any other activation you want)\n",
        "* Block 2:\n",
        "    * Deconv2d - `in_channels=128, 64, kernel_size=(3, 3), stride=(2, 2), padding=1, output_padding=1`\n",
        "    * Batch Normalization 2D - 64 features\n",
        "    * ReLU (or any other activation you want)\n",
        "* Block 3:\n",
        "    * Deconv2d - `in_channels=64, 64, kernel_size=(3, 3), stride=(2, 2), padding=2, output_padding=1`\n",
        "    * Batch Normalization 2D - 64 features\n",
        "    * ReLU (or any other activation you want)\n",
        "* Deconv2d - `in_channels=64, 3, kernel_size=(3, 3), stride=(2, 2), padding=1, output_padding=1`\n",
        "* Sigmoid\n",
        "\n"
      ]
    },
    {
      "cell_type": "code",
      "execution_count": null,
      "metadata": {
        "id": "Yk_a096gvA7V"
      },
      "outputs": [],
      "source": [
        "# your code here"
      ]
    },
    {
      "cell_type": "markdown",
      "metadata": {
        "id": "l6uCTOtzvA7V"
      },
      "source": [
        "### <img src=\"https://img.icons8.com/bubbles/48/000000/ask-question.png\" style=\"height:50px;display:inline\"> Bonus Question\n",
        "---\n",
        "1. What do you think about the results on the Pokemon dataset? Name at least 2 reasons for the VAE somewhat low performance on the Pokemon dataest.\n",
        "2. Suggest ideas to improve the performance (at least 2)."
      ]
    },
    {
      "cell_type": "markdown",
      "metadata": {
        "id": "VgiPin-KvA7V"
      },
      "source": [
        "### <img src=\"https://img.icons8.com/cotton/64/null/grand-master-key.png\" style=\"height:50px;display:inline\"> Part 2 - Clustering\n",
        "---\n",
        "In this task, we will use a graph convolutional network (GCN) to perform semi-supervised clustering.\n",
        "Our goal is to use the graph structure to get accurate clusters for the data.\n",
        "\n",
        "We will make use of the Pytorch geometric (PyG) library to provide us with implementations of GCNs and for importing datasets.\n",
        "See https://pytorch-geometric.readthedocs.io/en/latest/notes/installation.html for installation instructions for your platform.\n",
        "\n",
        "You may implement graph convolution layers by yourself if you prefer."
      ]
    },
    {
      "cell_type": "code",
      "execution_count": null,
      "metadata": {
        "id": "0vXS6z-6vA7V"
      },
      "outputs": [],
      "source": [
        "# imports for the exrcise - part 2\n",
        "# you can add more if you wish (but it is not really needed)\n",
        "import numpy as np\n",
        "import pandas as pd\n",
        "import matplotlib.pyplot as plt\n",
        "import time\n",
        "\n",
        "import warnings\n",
        "\n",
        "# PyG imports\n",
        "import torch\n",
        "import torch.nn.functional as F\n",
        "from torch_geometric.datasets.karate import KarateClub\n",
        "from torch_geometric.nn import GCNConv\n",
        "\n",
        "warnings.filterwarnings(category=UserWarning, action=\"ignore\")"
      ]
    },
    {
      "cell_type": "markdown",
      "metadata": {
        "id": "XHa8HP_wvA7W"
      },
      "source": [
        "### <img src=\"https://img.icons8.com/color/48/null/code.png\" style=\"height:50px;display:inline\"> Task 3 - Implementing a GCN\n",
        "---\n",
        "* Implement a GCN module that has two graph convolution layers and a non-linearity.\n",
        "    * Layer 1 should map the input features to a hidden representation\n",
        "    * A ReLU activation should be run on the output of this first Graph convolution layer\n",
        "    * Layer 2 should map the hidden representation to the outputs\n",
        "    * You can use `GCNConv` from PyG for implementations of graph convolution layers, but do not use any models from PyG.\n",
        "* Write your code in the blocks below such that the last block runs. \n",
        "    * The line `GCN(n_node_features, hidden_layer_size, num_clusters)` should run the initialization of the GCN.\n",
        "    * The forward implementation should work with pyG data that has fields `data.x, data.edge_index` with signature `forward(self, data)`\n",
        "* Print the resulting accuracy from running the test code"
      ]
    },
    {
      "cell_type": "code",
      "execution_count": null,
      "metadata": {
        "id": "wnEqwc_DvA7W"
      },
      "outputs": [],
      "source": [
        "# your code here - you can use as many cells as you need"
      ]
    },
    {
      "cell_type": "code",
      "execution_count": null,
      "metadata": {
        "id": "UmbiTeE-vA7W"
      },
      "outputs": [],
      "source": [
        "karate_dataset = KarateClub()\n",
        "n_node_features = 34 #  from documentation\n",
        "num_clusters = 4 #  from documentation\n",
        "hidden_layer_size = 16 #  chosen by us\n",
        "n_epochs = 20 #  chosen by us\n",
        "\n",
        "gcn_model = GCN(n_node_features, hidden_layer_size, num_clusters)\n",
        "device = torch.device('cuda' if torch.cuda.is_available() else 'cpu')\n",
        "model = gcn_model.to(device)\n",
        "data = karate_dataset.data.to(device)\n",
        "print(data.x)\n",
        "optimizer = torch.optim.Adam(model.parameters(), lr=0.01, weight_decay=5e-4)\n",
        "\n",
        "# Training loop\n",
        "train_mask = data.train_mask \n",
        "model.train()\n",
        "for epoch in range(n_epochs):\n",
        "    optimizer.zero_grad()\n",
        "    out = model(data)\n",
        "    loss = F.nll_loss(out[train_mask], data.y[train_mask])\n",
        "    loss.backward()\n",
        "    optimizer.step()\n",
        "\n",
        "# Classification accuracy for the graph data\n",
        "model.eval()\n",
        "test_mask = ~ train_mask\n",
        "pred = model(data).argmax(dim=1)\n",
        "correct = (pred[test_mask] == data.y[test_mask]).sum()\n",
        "acc = int(correct) / int(test_mask.sum())\n",
        "print(f'Accuracy: {acc:.4f}')"
      ]
    },
    {
      "cell_type": "markdown",
      "metadata": {
        "id": "mfRKSC9mvA7W"
      },
      "source": [
        "### <img src=\"https://img.icons8.com/bubbles/48/000000/ask-question.png\" style=\"height:50px;display:inline\"> Question 3 - GCN basics\n",
        "---\n",
        "1. What are the features in the Karate Club dataset? How does this feature definition effect the GCN activation $AXW^{(1)}$?\n",
        "2. For this GCN, how many neighbors is each node affected by? How did you determine this?"
      ]
    },
    {
      "cell_type": "markdown",
      "metadata": {
        "id": "l-Md1xKpvA7W"
      },
      "source": [
        "### <img src=\"https://img.icons8.com/color/48/null/code.png\" style=\"height:50px;display:inline\"> Task 4 - Clustering with a GCN\n",
        "---\n",
        "Now that we have trained a GCN with one labelled sample per class, we have a GCN that creates a good mapping of new points to clusters.\n",
        "We note that combining GCNs and autoencoders can give us unsupervised clustering and seem to work well, but we will focus on the simpler setting where we have a few labels per class/cluster (in this case, one example).\n",
        "\n",
        "1. Create a new GCN with `hidden_layer_size=4` and output dimension 2\n",
        "2. Visualize the output of the untrained network as a two-dimensional embedding. Show different classes in different colors.\n",
        "3. Train this GCN on the training data (use `data.train_mask`) of one example per class\n",
        "    * Create a simple 2D embedding for class labels\n",
        "        * for example, by mapping `labels = torch.vstack([2*(data.y % 2)-1, 2*((data.y>1).float())-1]).T`\n",
        "    * Use MSE loss between the network output and the label embedding\n",
        "    * You can use a `tanh` activation function instead of ReLU to get better results\n",
        "    * Use the same optimizer as above: `torch.optim.Adam(model.parameters(), lr=0.01, weight_decay=5e-4)`\n",
        "    * Run 300 training epochs\n",
        "4. Visualize the output of the trained network on the entire dataset with the different classes in different colors."
      ]
    },
    {
      "cell_type": "code",
      "execution_count": null,
      "metadata": {
        "id": "J609Up6NvA7W"
      },
      "outputs": [],
      "source": [
        "# your code here - you can use as many cells as you need"
      ]
    },
    {
      "cell_type": "markdown",
      "metadata": {
        "id": "SvigSC1lvA7W"
      },
      "source": [
        "### <img src=\"https://img.icons8.com/bubbles/48/000000/ask-question.png\" style=\"height:50px;display:inline\"> Question 4 - GCN for embedding\n",
        "---\n",
        "1. What is the effect of the semi-supervised training on the overall embedding? refer to the plots in your answer.\n",
        "2. How does it make sense that training on only one point per class is enough to give a clustered embedding that separates classes well? Refer to the specific structure of GCN layers. Consider the differences between the embedding before and after training."
      ]
    },
    {
      "cell_type": "markdown",
      "metadata": {
        "id": "B2tXxu0avA7X"
      },
      "source": [
        "## <img src=\"https://img.icons8.com/dusk/64/000000/prize.png\" style=\"height:50px;display:inline\"> Credits\n",
        "* Icons from <a href=\"https://icons8.com/\">Icon8.com</a> - https://icons8.com\n",
        "* Datasets from <a href=\"https://www.kaggle.com/\">Kaggle</a> - https://www.kaggle.com/"
      ]
    }
  ],
  "metadata": {
    "kernelspec": {
      "display_name": "Python 3 (ipykernel)",
      "language": "python",
      "name": "python3"
    },
    "language_info": {
      "codemirror_mode": {
        "name": "ipython",
        "version": 3
      },
      "file_extension": ".py",
      "mimetype": "text/x-python",
      "name": "python",
      "nbconvert_exporter": "python",
      "pygments_lexer": "ipython3",
      "version": "3.8.5"
    },
    "colab": {
      "provenance": [],
      "toc_visible": true
    },
    "accelerator": "GPU",
    "gpuClass": "standard",
    "widgets": {
      "application/vnd.jupyter.widget-state+json": {
        "dea420e8c3764a2fb9049d39cfe3ef6e": {
          "model_module": "@jupyter-widgets/controls",
          "model_name": "HBoxModel",
          "model_module_version": "1.5.0",
          "state": {
            "_dom_classes": [],
            "_model_module": "@jupyter-widgets/controls",
            "_model_module_version": "1.5.0",
            "_model_name": "HBoxModel",
            "_view_count": null,
            "_view_module": "@jupyter-widgets/controls",
            "_view_module_version": "1.5.0",
            "_view_name": "HBoxView",
            "box_style": "",
            "children": [
              "IPY_MODEL_7648b2bbafe843778904403806266519",
              "IPY_MODEL_8d4c62f5d6d04782849825eb93e71f02",
              "IPY_MODEL_de36a1b5ac984685a53f13e85ab9a100"
            ],
            "layout": "IPY_MODEL_fcc4b47614cb4b7bafee04210d6c21df"
          }
        },
        "7648b2bbafe843778904403806266519": {
          "model_module": "@jupyter-widgets/controls",
          "model_name": "HTMLModel",
          "model_module_version": "1.5.0",
          "state": {
            "_dom_classes": [],
            "_model_module": "@jupyter-widgets/controls",
            "_model_module_version": "1.5.0",
            "_model_name": "HTMLModel",
            "_view_count": null,
            "_view_module": "@jupyter-widgets/controls",
            "_view_module_version": "1.5.0",
            "_view_name": "HTMLView",
            "description": "",
            "description_tooltip": null,
            "layout": "IPY_MODEL_babf9c2d00c0449e9fc96359fdc10213",
            "placeholder": "​",
            "style": "IPY_MODEL_817de508d39a44f4a11cfef07ee2d198",
            "value": "100%"
          }
        },
        "8d4c62f5d6d04782849825eb93e71f02": {
          "model_module": "@jupyter-widgets/controls",
          "model_name": "FloatProgressModel",
          "model_module_version": "1.5.0",
          "state": {
            "_dom_classes": [],
            "_model_module": "@jupyter-widgets/controls",
            "_model_module_version": "1.5.0",
            "_model_name": "FloatProgressModel",
            "_view_count": null,
            "_view_module": "@jupyter-widgets/controls",
            "_view_module_version": "1.5.0",
            "_view_name": "ProgressView",
            "bar_style": "success",
            "description": "",
            "description_tooltip": null,
            "layout": "IPY_MODEL_60a2b9cf16004121aacc85bb346b4775",
            "max": 9912422,
            "min": 0,
            "orientation": "horizontal",
            "style": "IPY_MODEL_606839e2b7804dcea4013710192fdb4f",
            "value": 9912422
          }
        },
        "de36a1b5ac984685a53f13e85ab9a100": {
          "model_module": "@jupyter-widgets/controls",
          "model_name": "HTMLModel",
          "model_module_version": "1.5.0",
          "state": {
            "_dom_classes": [],
            "_model_module": "@jupyter-widgets/controls",
            "_model_module_version": "1.5.0",
            "_model_name": "HTMLModel",
            "_view_count": null,
            "_view_module": "@jupyter-widgets/controls",
            "_view_module_version": "1.5.0",
            "_view_name": "HTMLView",
            "description": "",
            "description_tooltip": null,
            "layout": "IPY_MODEL_dc87a99b6a9349c68e0d1f7e8832e271",
            "placeholder": "​",
            "style": "IPY_MODEL_3329588626784f9e80380fcce7173a32",
            "value": " 9912422/9912422 [00:00&lt;00:00, 108932755.63it/s]"
          }
        },
        "fcc4b47614cb4b7bafee04210d6c21df": {
          "model_module": "@jupyter-widgets/base",
          "model_name": "LayoutModel",
          "model_module_version": "1.2.0",
          "state": {
            "_model_module": "@jupyter-widgets/base",
            "_model_module_version": "1.2.0",
            "_model_name": "LayoutModel",
            "_view_count": null,
            "_view_module": "@jupyter-widgets/base",
            "_view_module_version": "1.2.0",
            "_view_name": "LayoutView",
            "align_content": null,
            "align_items": null,
            "align_self": null,
            "border": null,
            "bottom": null,
            "display": null,
            "flex": null,
            "flex_flow": null,
            "grid_area": null,
            "grid_auto_columns": null,
            "grid_auto_flow": null,
            "grid_auto_rows": null,
            "grid_column": null,
            "grid_gap": null,
            "grid_row": null,
            "grid_template_areas": null,
            "grid_template_columns": null,
            "grid_template_rows": null,
            "height": null,
            "justify_content": null,
            "justify_items": null,
            "left": null,
            "margin": null,
            "max_height": null,
            "max_width": null,
            "min_height": null,
            "min_width": null,
            "object_fit": null,
            "object_position": null,
            "order": null,
            "overflow": null,
            "overflow_x": null,
            "overflow_y": null,
            "padding": null,
            "right": null,
            "top": null,
            "visibility": null,
            "width": null
          }
        },
        "babf9c2d00c0449e9fc96359fdc10213": {
          "model_module": "@jupyter-widgets/base",
          "model_name": "LayoutModel",
          "model_module_version": "1.2.0",
          "state": {
            "_model_module": "@jupyter-widgets/base",
            "_model_module_version": "1.2.0",
            "_model_name": "LayoutModel",
            "_view_count": null,
            "_view_module": "@jupyter-widgets/base",
            "_view_module_version": "1.2.0",
            "_view_name": "LayoutView",
            "align_content": null,
            "align_items": null,
            "align_self": null,
            "border": null,
            "bottom": null,
            "display": null,
            "flex": null,
            "flex_flow": null,
            "grid_area": null,
            "grid_auto_columns": null,
            "grid_auto_flow": null,
            "grid_auto_rows": null,
            "grid_column": null,
            "grid_gap": null,
            "grid_row": null,
            "grid_template_areas": null,
            "grid_template_columns": null,
            "grid_template_rows": null,
            "height": null,
            "justify_content": null,
            "justify_items": null,
            "left": null,
            "margin": null,
            "max_height": null,
            "max_width": null,
            "min_height": null,
            "min_width": null,
            "object_fit": null,
            "object_position": null,
            "order": null,
            "overflow": null,
            "overflow_x": null,
            "overflow_y": null,
            "padding": null,
            "right": null,
            "top": null,
            "visibility": null,
            "width": null
          }
        },
        "817de508d39a44f4a11cfef07ee2d198": {
          "model_module": "@jupyter-widgets/controls",
          "model_name": "DescriptionStyleModel",
          "model_module_version": "1.5.0",
          "state": {
            "_model_module": "@jupyter-widgets/controls",
            "_model_module_version": "1.5.0",
            "_model_name": "DescriptionStyleModel",
            "_view_count": null,
            "_view_module": "@jupyter-widgets/base",
            "_view_module_version": "1.2.0",
            "_view_name": "StyleView",
            "description_width": ""
          }
        },
        "60a2b9cf16004121aacc85bb346b4775": {
          "model_module": "@jupyter-widgets/base",
          "model_name": "LayoutModel",
          "model_module_version": "1.2.0",
          "state": {
            "_model_module": "@jupyter-widgets/base",
            "_model_module_version": "1.2.0",
            "_model_name": "LayoutModel",
            "_view_count": null,
            "_view_module": "@jupyter-widgets/base",
            "_view_module_version": "1.2.0",
            "_view_name": "LayoutView",
            "align_content": null,
            "align_items": null,
            "align_self": null,
            "border": null,
            "bottom": null,
            "display": null,
            "flex": null,
            "flex_flow": null,
            "grid_area": null,
            "grid_auto_columns": null,
            "grid_auto_flow": null,
            "grid_auto_rows": null,
            "grid_column": null,
            "grid_gap": null,
            "grid_row": null,
            "grid_template_areas": null,
            "grid_template_columns": null,
            "grid_template_rows": null,
            "height": null,
            "justify_content": null,
            "justify_items": null,
            "left": null,
            "margin": null,
            "max_height": null,
            "max_width": null,
            "min_height": null,
            "min_width": null,
            "object_fit": null,
            "object_position": null,
            "order": null,
            "overflow": null,
            "overflow_x": null,
            "overflow_y": null,
            "padding": null,
            "right": null,
            "top": null,
            "visibility": null,
            "width": null
          }
        },
        "606839e2b7804dcea4013710192fdb4f": {
          "model_module": "@jupyter-widgets/controls",
          "model_name": "ProgressStyleModel",
          "model_module_version": "1.5.0",
          "state": {
            "_model_module": "@jupyter-widgets/controls",
            "_model_module_version": "1.5.0",
            "_model_name": "ProgressStyleModel",
            "_view_count": null,
            "_view_module": "@jupyter-widgets/base",
            "_view_module_version": "1.2.0",
            "_view_name": "StyleView",
            "bar_color": null,
            "description_width": ""
          }
        },
        "dc87a99b6a9349c68e0d1f7e8832e271": {
          "model_module": "@jupyter-widgets/base",
          "model_name": "LayoutModel",
          "model_module_version": "1.2.0",
          "state": {
            "_model_module": "@jupyter-widgets/base",
            "_model_module_version": "1.2.0",
            "_model_name": "LayoutModel",
            "_view_count": null,
            "_view_module": "@jupyter-widgets/base",
            "_view_module_version": "1.2.0",
            "_view_name": "LayoutView",
            "align_content": null,
            "align_items": null,
            "align_self": null,
            "border": null,
            "bottom": null,
            "display": null,
            "flex": null,
            "flex_flow": null,
            "grid_area": null,
            "grid_auto_columns": null,
            "grid_auto_flow": null,
            "grid_auto_rows": null,
            "grid_column": null,
            "grid_gap": null,
            "grid_row": null,
            "grid_template_areas": null,
            "grid_template_columns": null,
            "grid_template_rows": null,
            "height": null,
            "justify_content": null,
            "justify_items": null,
            "left": null,
            "margin": null,
            "max_height": null,
            "max_width": null,
            "min_height": null,
            "min_width": null,
            "object_fit": null,
            "object_position": null,
            "order": null,
            "overflow": null,
            "overflow_x": null,
            "overflow_y": null,
            "padding": null,
            "right": null,
            "top": null,
            "visibility": null,
            "width": null
          }
        },
        "3329588626784f9e80380fcce7173a32": {
          "model_module": "@jupyter-widgets/controls",
          "model_name": "DescriptionStyleModel",
          "model_module_version": "1.5.0",
          "state": {
            "_model_module": "@jupyter-widgets/controls",
            "_model_module_version": "1.5.0",
            "_model_name": "DescriptionStyleModel",
            "_view_count": null,
            "_view_module": "@jupyter-widgets/base",
            "_view_module_version": "1.2.0",
            "_view_name": "StyleView",
            "description_width": ""
          }
        },
        "6f3fa2584a81493c92855e67492eb822": {
          "model_module": "@jupyter-widgets/controls",
          "model_name": "HBoxModel",
          "model_module_version": "1.5.0",
          "state": {
            "_dom_classes": [],
            "_model_module": "@jupyter-widgets/controls",
            "_model_module_version": "1.5.0",
            "_model_name": "HBoxModel",
            "_view_count": null,
            "_view_module": "@jupyter-widgets/controls",
            "_view_module_version": "1.5.0",
            "_view_name": "HBoxView",
            "box_style": "",
            "children": [
              "IPY_MODEL_93b3966973f8472481b86656c66cc8ca",
              "IPY_MODEL_7776ccaf700e4e0b9eb295bc6f9df8a3",
              "IPY_MODEL_f0abad9e61f3450bbe18493de1133bf1"
            ],
            "layout": "IPY_MODEL_6bb3f20e79ff491ea20c285c5d8f65bf"
          }
        },
        "93b3966973f8472481b86656c66cc8ca": {
          "model_module": "@jupyter-widgets/controls",
          "model_name": "HTMLModel",
          "model_module_version": "1.5.0",
          "state": {
            "_dom_classes": [],
            "_model_module": "@jupyter-widgets/controls",
            "_model_module_version": "1.5.0",
            "_model_name": "HTMLModel",
            "_view_count": null,
            "_view_module": "@jupyter-widgets/controls",
            "_view_module_version": "1.5.0",
            "_view_name": "HTMLView",
            "description": "",
            "description_tooltip": null,
            "layout": "IPY_MODEL_57bd58dfe1f546c98e9694e331da78be",
            "placeholder": "​",
            "style": "IPY_MODEL_dbcd07ab24494f38a26b9a56f28bea71",
            "value": "100%"
          }
        },
        "7776ccaf700e4e0b9eb295bc6f9df8a3": {
          "model_module": "@jupyter-widgets/controls",
          "model_name": "FloatProgressModel",
          "model_module_version": "1.5.0",
          "state": {
            "_dom_classes": [],
            "_model_module": "@jupyter-widgets/controls",
            "_model_module_version": "1.5.0",
            "_model_name": "FloatProgressModel",
            "_view_count": null,
            "_view_module": "@jupyter-widgets/controls",
            "_view_module_version": "1.5.0",
            "_view_name": "ProgressView",
            "bar_style": "success",
            "description": "",
            "description_tooltip": null,
            "layout": "IPY_MODEL_9c974904004847aebbc845a0fd075c3a",
            "max": 28881,
            "min": 0,
            "orientation": "horizontal",
            "style": "IPY_MODEL_618eb08008ab473685fd0e7e244eb49e",
            "value": 28881
          }
        },
        "f0abad9e61f3450bbe18493de1133bf1": {
          "model_module": "@jupyter-widgets/controls",
          "model_name": "HTMLModel",
          "model_module_version": "1.5.0",
          "state": {
            "_dom_classes": [],
            "_model_module": "@jupyter-widgets/controls",
            "_model_module_version": "1.5.0",
            "_model_name": "HTMLModel",
            "_view_count": null,
            "_view_module": "@jupyter-widgets/controls",
            "_view_module_version": "1.5.0",
            "_view_name": "HTMLView",
            "description": "",
            "description_tooltip": null,
            "layout": "IPY_MODEL_6f291c4eb8744f6b80ea5679b982a25a",
            "placeholder": "​",
            "style": "IPY_MODEL_6c7ab9f535714c118026fec17e034ff2",
            "value": " 28881/28881 [00:00&lt;00:00, 2006421.54it/s]"
          }
        },
        "6bb3f20e79ff491ea20c285c5d8f65bf": {
          "model_module": "@jupyter-widgets/base",
          "model_name": "LayoutModel",
          "model_module_version": "1.2.0",
          "state": {
            "_model_module": "@jupyter-widgets/base",
            "_model_module_version": "1.2.0",
            "_model_name": "LayoutModel",
            "_view_count": null,
            "_view_module": "@jupyter-widgets/base",
            "_view_module_version": "1.2.0",
            "_view_name": "LayoutView",
            "align_content": null,
            "align_items": null,
            "align_self": null,
            "border": null,
            "bottom": null,
            "display": null,
            "flex": null,
            "flex_flow": null,
            "grid_area": null,
            "grid_auto_columns": null,
            "grid_auto_flow": null,
            "grid_auto_rows": null,
            "grid_column": null,
            "grid_gap": null,
            "grid_row": null,
            "grid_template_areas": null,
            "grid_template_columns": null,
            "grid_template_rows": null,
            "height": null,
            "justify_content": null,
            "justify_items": null,
            "left": null,
            "margin": null,
            "max_height": null,
            "max_width": null,
            "min_height": null,
            "min_width": null,
            "object_fit": null,
            "object_position": null,
            "order": null,
            "overflow": null,
            "overflow_x": null,
            "overflow_y": null,
            "padding": null,
            "right": null,
            "top": null,
            "visibility": null,
            "width": null
          }
        },
        "57bd58dfe1f546c98e9694e331da78be": {
          "model_module": "@jupyter-widgets/base",
          "model_name": "LayoutModel",
          "model_module_version": "1.2.0",
          "state": {
            "_model_module": "@jupyter-widgets/base",
            "_model_module_version": "1.2.0",
            "_model_name": "LayoutModel",
            "_view_count": null,
            "_view_module": "@jupyter-widgets/base",
            "_view_module_version": "1.2.0",
            "_view_name": "LayoutView",
            "align_content": null,
            "align_items": null,
            "align_self": null,
            "border": null,
            "bottom": null,
            "display": null,
            "flex": null,
            "flex_flow": null,
            "grid_area": null,
            "grid_auto_columns": null,
            "grid_auto_flow": null,
            "grid_auto_rows": null,
            "grid_column": null,
            "grid_gap": null,
            "grid_row": null,
            "grid_template_areas": null,
            "grid_template_columns": null,
            "grid_template_rows": null,
            "height": null,
            "justify_content": null,
            "justify_items": null,
            "left": null,
            "margin": null,
            "max_height": null,
            "max_width": null,
            "min_height": null,
            "min_width": null,
            "object_fit": null,
            "object_position": null,
            "order": null,
            "overflow": null,
            "overflow_x": null,
            "overflow_y": null,
            "padding": null,
            "right": null,
            "top": null,
            "visibility": null,
            "width": null
          }
        },
        "dbcd07ab24494f38a26b9a56f28bea71": {
          "model_module": "@jupyter-widgets/controls",
          "model_name": "DescriptionStyleModel",
          "model_module_version": "1.5.0",
          "state": {
            "_model_module": "@jupyter-widgets/controls",
            "_model_module_version": "1.5.0",
            "_model_name": "DescriptionStyleModel",
            "_view_count": null,
            "_view_module": "@jupyter-widgets/base",
            "_view_module_version": "1.2.0",
            "_view_name": "StyleView",
            "description_width": ""
          }
        },
        "9c974904004847aebbc845a0fd075c3a": {
          "model_module": "@jupyter-widgets/base",
          "model_name": "LayoutModel",
          "model_module_version": "1.2.0",
          "state": {
            "_model_module": "@jupyter-widgets/base",
            "_model_module_version": "1.2.0",
            "_model_name": "LayoutModel",
            "_view_count": null,
            "_view_module": "@jupyter-widgets/base",
            "_view_module_version": "1.2.0",
            "_view_name": "LayoutView",
            "align_content": null,
            "align_items": null,
            "align_self": null,
            "border": null,
            "bottom": null,
            "display": null,
            "flex": null,
            "flex_flow": null,
            "grid_area": null,
            "grid_auto_columns": null,
            "grid_auto_flow": null,
            "grid_auto_rows": null,
            "grid_column": null,
            "grid_gap": null,
            "grid_row": null,
            "grid_template_areas": null,
            "grid_template_columns": null,
            "grid_template_rows": null,
            "height": null,
            "justify_content": null,
            "justify_items": null,
            "left": null,
            "margin": null,
            "max_height": null,
            "max_width": null,
            "min_height": null,
            "min_width": null,
            "object_fit": null,
            "object_position": null,
            "order": null,
            "overflow": null,
            "overflow_x": null,
            "overflow_y": null,
            "padding": null,
            "right": null,
            "top": null,
            "visibility": null,
            "width": null
          }
        },
        "618eb08008ab473685fd0e7e244eb49e": {
          "model_module": "@jupyter-widgets/controls",
          "model_name": "ProgressStyleModel",
          "model_module_version": "1.5.0",
          "state": {
            "_model_module": "@jupyter-widgets/controls",
            "_model_module_version": "1.5.0",
            "_model_name": "ProgressStyleModel",
            "_view_count": null,
            "_view_module": "@jupyter-widgets/base",
            "_view_module_version": "1.2.0",
            "_view_name": "StyleView",
            "bar_color": null,
            "description_width": ""
          }
        },
        "6f291c4eb8744f6b80ea5679b982a25a": {
          "model_module": "@jupyter-widgets/base",
          "model_name": "LayoutModel",
          "model_module_version": "1.2.0",
          "state": {
            "_model_module": "@jupyter-widgets/base",
            "_model_module_version": "1.2.0",
            "_model_name": "LayoutModel",
            "_view_count": null,
            "_view_module": "@jupyter-widgets/base",
            "_view_module_version": "1.2.0",
            "_view_name": "LayoutView",
            "align_content": null,
            "align_items": null,
            "align_self": null,
            "border": null,
            "bottom": null,
            "display": null,
            "flex": null,
            "flex_flow": null,
            "grid_area": null,
            "grid_auto_columns": null,
            "grid_auto_flow": null,
            "grid_auto_rows": null,
            "grid_column": null,
            "grid_gap": null,
            "grid_row": null,
            "grid_template_areas": null,
            "grid_template_columns": null,
            "grid_template_rows": null,
            "height": null,
            "justify_content": null,
            "justify_items": null,
            "left": null,
            "margin": null,
            "max_height": null,
            "max_width": null,
            "min_height": null,
            "min_width": null,
            "object_fit": null,
            "object_position": null,
            "order": null,
            "overflow": null,
            "overflow_x": null,
            "overflow_y": null,
            "padding": null,
            "right": null,
            "top": null,
            "visibility": null,
            "width": null
          }
        },
        "6c7ab9f535714c118026fec17e034ff2": {
          "model_module": "@jupyter-widgets/controls",
          "model_name": "DescriptionStyleModel",
          "model_module_version": "1.5.0",
          "state": {
            "_model_module": "@jupyter-widgets/controls",
            "_model_module_version": "1.5.0",
            "_model_name": "DescriptionStyleModel",
            "_view_count": null,
            "_view_module": "@jupyter-widgets/base",
            "_view_module_version": "1.2.0",
            "_view_name": "StyleView",
            "description_width": ""
          }
        },
        "222049d7f6b04e2da9efa04075acd2b7": {
          "model_module": "@jupyter-widgets/controls",
          "model_name": "HBoxModel",
          "model_module_version": "1.5.0",
          "state": {
            "_dom_classes": [],
            "_model_module": "@jupyter-widgets/controls",
            "_model_module_version": "1.5.0",
            "_model_name": "HBoxModel",
            "_view_count": null,
            "_view_module": "@jupyter-widgets/controls",
            "_view_module_version": "1.5.0",
            "_view_name": "HBoxView",
            "box_style": "",
            "children": [
              "IPY_MODEL_69214e1d522d4be292d4b5c7e8b714c1",
              "IPY_MODEL_71f4ac103e3b4e3fa569a70ebdd2d8f4",
              "IPY_MODEL_86e0dd652f7f44c2b4d3897035477882"
            ],
            "layout": "IPY_MODEL_890885879f0a4c1d85ac5b62bb826fd1"
          }
        },
        "69214e1d522d4be292d4b5c7e8b714c1": {
          "model_module": "@jupyter-widgets/controls",
          "model_name": "HTMLModel",
          "model_module_version": "1.5.0",
          "state": {
            "_dom_classes": [],
            "_model_module": "@jupyter-widgets/controls",
            "_model_module_version": "1.5.0",
            "_model_name": "HTMLModel",
            "_view_count": null,
            "_view_module": "@jupyter-widgets/controls",
            "_view_module_version": "1.5.0",
            "_view_name": "HTMLView",
            "description": "",
            "description_tooltip": null,
            "layout": "IPY_MODEL_0cab0e9aef5e42958cfc3c5c60f2c107",
            "placeholder": "​",
            "style": "IPY_MODEL_21c5376d67824d7289378bd4b433d588",
            "value": "100%"
          }
        },
        "71f4ac103e3b4e3fa569a70ebdd2d8f4": {
          "model_module": "@jupyter-widgets/controls",
          "model_name": "FloatProgressModel",
          "model_module_version": "1.5.0",
          "state": {
            "_dom_classes": [],
            "_model_module": "@jupyter-widgets/controls",
            "_model_module_version": "1.5.0",
            "_model_name": "FloatProgressModel",
            "_view_count": null,
            "_view_module": "@jupyter-widgets/controls",
            "_view_module_version": "1.5.0",
            "_view_name": "ProgressView",
            "bar_style": "success",
            "description": "",
            "description_tooltip": null,
            "layout": "IPY_MODEL_5ca8d0048be74b2f8a4c7cbf2ad48e13",
            "max": 1648877,
            "min": 0,
            "orientation": "horizontal",
            "style": "IPY_MODEL_2c9640a464914ad294acc1bcd8874afa",
            "value": 1648877
          }
        },
        "86e0dd652f7f44c2b4d3897035477882": {
          "model_module": "@jupyter-widgets/controls",
          "model_name": "HTMLModel",
          "model_module_version": "1.5.0",
          "state": {
            "_dom_classes": [],
            "_model_module": "@jupyter-widgets/controls",
            "_model_module_version": "1.5.0",
            "_model_name": "HTMLModel",
            "_view_count": null,
            "_view_module": "@jupyter-widgets/controls",
            "_view_module_version": "1.5.0",
            "_view_name": "HTMLView",
            "description": "",
            "description_tooltip": null,
            "layout": "IPY_MODEL_533aef617ae847aa9293103072be5803",
            "placeholder": "​",
            "style": "IPY_MODEL_8df9df15d99e42aab1ecdbd757496e94",
            "value": " 1648877/1648877 [00:00&lt;00:00, 32789479.31it/s]"
          }
        },
        "890885879f0a4c1d85ac5b62bb826fd1": {
          "model_module": "@jupyter-widgets/base",
          "model_name": "LayoutModel",
          "model_module_version": "1.2.0",
          "state": {
            "_model_module": "@jupyter-widgets/base",
            "_model_module_version": "1.2.0",
            "_model_name": "LayoutModel",
            "_view_count": null,
            "_view_module": "@jupyter-widgets/base",
            "_view_module_version": "1.2.0",
            "_view_name": "LayoutView",
            "align_content": null,
            "align_items": null,
            "align_self": null,
            "border": null,
            "bottom": null,
            "display": null,
            "flex": null,
            "flex_flow": null,
            "grid_area": null,
            "grid_auto_columns": null,
            "grid_auto_flow": null,
            "grid_auto_rows": null,
            "grid_column": null,
            "grid_gap": null,
            "grid_row": null,
            "grid_template_areas": null,
            "grid_template_columns": null,
            "grid_template_rows": null,
            "height": null,
            "justify_content": null,
            "justify_items": null,
            "left": null,
            "margin": null,
            "max_height": null,
            "max_width": null,
            "min_height": null,
            "min_width": null,
            "object_fit": null,
            "object_position": null,
            "order": null,
            "overflow": null,
            "overflow_x": null,
            "overflow_y": null,
            "padding": null,
            "right": null,
            "top": null,
            "visibility": null,
            "width": null
          }
        },
        "0cab0e9aef5e42958cfc3c5c60f2c107": {
          "model_module": "@jupyter-widgets/base",
          "model_name": "LayoutModel",
          "model_module_version": "1.2.0",
          "state": {
            "_model_module": "@jupyter-widgets/base",
            "_model_module_version": "1.2.0",
            "_model_name": "LayoutModel",
            "_view_count": null,
            "_view_module": "@jupyter-widgets/base",
            "_view_module_version": "1.2.0",
            "_view_name": "LayoutView",
            "align_content": null,
            "align_items": null,
            "align_self": null,
            "border": null,
            "bottom": null,
            "display": null,
            "flex": null,
            "flex_flow": null,
            "grid_area": null,
            "grid_auto_columns": null,
            "grid_auto_flow": null,
            "grid_auto_rows": null,
            "grid_column": null,
            "grid_gap": null,
            "grid_row": null,
            "grid_template_areas": null,
            "grid_template_columns": null,
            "grid_template_rows": null,
            "height": null,
            "justify_content": null,
            "justify_items": null,
            "left": null,
            "margin": null,
            "max_height": null,
            "max_width": null,
            "min_height": null,
            "min_width": null,
            "object_fit": null,
            "object_position": null,
            "order": null,
            "overflow": null,
            "overflow_x": null,
            "overflow_y": null,
            "padding": null,
            "right": null,
            "top": null,
            "visibility": null,
            "width": null
          }
        },
        "21c5376d67824d7289378bd4b433d588": {
          "model_module": "@jupyter-widgets/controls",
          "model_name": "DescriptionStyleModel",
          "model_module_version": "1.5.0",
          "state": {
            "_model_module": "@jupyter-widgets/controls",
            "_model_module_version": "1.5.0",
            "_model_name": "DescriptionStyleModel",
            "_view_count": null,
            "_view_module": "@jupyter-widgets/base",
            "_view_module_version": "1.2.0",
            "_view_name": "StyleView",
            "description_width": ""
          }
        },
        "5ca8d0048be74b2f8a4c7cbf2ad48e13": {
          "model_module": "@jupyter-widgets/base",
          "model_name": "LayoutModel",
          "model_module_version": "1.2.0",
          "state": {
            "_model_module": "@jupyter-widgets/base",
            "_model_module_version": "1.2.0",
            "_model_name": "LayoutModel",
            "_view_count": null,
            "_view_module": "@jupyter-widgets/base",
            "_view_module_version": "1.2.0",
            "_view_name": "LayoutView",
            "align_content": null,
            "align_items": null,
            "align_self": null,
            "border": null,
            "bottom": null,
            "display": null,
            "flex": null,
            "flex_flow": null,
            "grid_area": null,
            "grid_auto_columns": null,
            "grid_auto_flow": null,
            "grid_auto_rows": null,
            "grid_column": null,
            "grid_gap": null,
            "grid_row": null,
            "grid_template_areas": null,
            "grid_template_columns": null,
            "grid_template_rows": null,
            "height": null,
            "justify_content": null,
            "justify_items": null,
            "left": null,
            "margin": null,
            "max_height": null,
            "max_width": null,
            "min_height": null,
            "min_width": null,
            "object_fit": null,
            "object_position": null,
            "order": null,
            "overflow": null,
            "overflow_x": null,
            "overflow_y": null,
            "padding": null,
            "right": null,
            "top": null,
            "visibility": null,
            "width": null
          }
        },
        "2c9640a464914ad294acc1bcd8874afa": {
          "model_module": "@jupyter-widgets/controls",
          "model_name": "ProgressStyleModel",
          "model_module_version": "1.5.0",
          "state": {
            "_model_module": "@jupyter-widgets/controls",
            "_model_module_version": "1.5.0",
            "_model_name": "ProgressStyleModel",
            "_view_count": null,
            "_view_module": "@jupyter-widgets/base",
            "_view_module_version": "1.2.0",
            "_view_name": "StyleView",
            "bar_color": null,
            "description_width": ""
          }
        },
        "533aef617ae847aa9293103072be5803": {
          "model_module": "@jupyter-widgets/base",
          "model_name": "LayoutModel",
          "model_module_version": "1.2.0",
          "state": {
            "_model_module": "@jupyter-widgets/base",
            "_model_module_version": "1.2.0",
            "_model_name": "LayoutModel",
            "_view_count": null,
            "_view_module": "@jupyter-widgets/base",
            "_view_module_version": "1.2.0",
            "_view_name": "LayoutView",
            "align_content": null,
            "align_items": null,
            "align_self": null,
            "border": null,
            "bottom": null,
            "display": null,
            "flex": null,
            "flex_flow": null,
            "grid_area": null,
            "grid_auto_columns": null,
            "grid_auto_flow": null,
            "grid_auto_rows": null,
            "grid_column": null,
            "grid_gap": null,
            "grid_row": null,
            "grid_template_areas": null,
            "grid_template_columns": null,
            "grid_template_rows": null,
            "height": null,
            "justify_content": null,
            "justify_items": null,
            "left": null,
            "margin": null,
            "max_height": null,
            "max_width": null,
            "min_height": null,
            "min_width": null,
            "object_fit": null,
            "object_position": null,
            "order": null,
            "overflow": null,
            "overflow_x": null,
            "overflow_y": null,
            "padding": null,
            "right": null,
            "top": null,
            "visibility": null,
            "width": null
          }
        },
        "8df9df15d99e42aab1ecdbd757496e94": {
          "model_module": "@jupyter-widgets/controls",
          "model_name": "DescriptionStyleModel",
          "model_module_version": "1.5.0",
          "state": {
            "_model_module": "@jupyter-widgets/controls",
            "_model_module_version": "1.5.0",
            "_model_name": "DescriptionStyleModel",
            "_view_count": null,
            "_view_module": "@jupyter-widgets/base",
            "_view_module_version": "1.2.0",
            "_view_name": "StyleView",
            "description_width": ""
          }
        },
        "3995e93dd93c40d4830c9d797e25e866": {
          "model_module": "@jupyter-widgets/controls",
          "model_name": "HBoxModel",
          "model_module_version": "1.5.0",
          "state": {
            "_dom_classes": [],
            "_model_module": "@jupyter-widgets/controls",
            "_model_module_version": "1.5.0",
            "_model_name": "HBoxModel",
            "_view_count": null,
            "_view_module": "@jupyter-widgets/controls",
            "_view_module_version": "1.5.0",
            "_view_name": "HBoxView",
            "box_style": "",
            "children": [
              "IPY_MODEL_795267b4f8c041fdb61148a6b035417d",
              "IPY_MODEL_95391dc2e72a41e9b9adb926358218b5",
              "IPY_MODEL_c166acabb5614a629932d4e449e9ef04"
            ],
            "layout": "IPY_MODEL_ddfe6487cbba4cf39dfec47c04b1c93e"
          }
        },
        "795267b4f8c041fdb61148a6b035417d": {
          "model_module": "@jupyter-widgets/controls",
          "model_name": "HTMLModel",
          "model_module_version": "1.5.0",
          "state": {
            "_dom_classes": [],
            "_model_module": "@jupyter-widgets/controls",
            "_model_module_version": "1.5.0",
            "_model_name": "HTMLModel",
            "_view_count": null,
            "_view_module": "@jupyter-widgets/controls",
            "_view_module_version": "1.5.0",
            "_view_name": "HTMLView",
            "description": "",
            "description_tooltip": null,
            "layout": "IPY_MODEL_a7f53884c102461f862f6c3534e5e82a",
            "placeholder": "​",
            "style": "IPY_MODEL_d788bb7dd7804649a8542b0af0f53aba",
            "value": "100%"
          }
        },
        "95391dc2e72a41e9b9adb926358218b5": {
          "model_module": "@jupyter-widgets/controls",
          "model_name": "FloatProgressModel",
          "model_module_version": "1.5.0",
          "state": {
            "_dom_classes": [],
            "_model_module": "@jupyter-widgets/controls",
            "_model_module_version": "1.5.0",
            "_model_name": "FloatProgressModel",
            "_view_count": null,
            "_view_module": "@jupyter-widgets/controls",
            "_view_module_version": "1.5.0",
            "_view_name": "ProgressView",
            "bar_style": "success",
            "description": "",
            "description_tooltip": null,
            "layout": "IPY_MODEL_0eb547284dd54e3ba33a2cd7442114e4",
            "max": 4542,
            "min": 0,
            "orientation": "horizontal",
            "style": "IPY_MODEL_4a0c154fd4d3458d8d8917845b8eeea8",
            "value": 4542
          }
        },
        "c166acabb5614a629932d4e449e9ef04": {
          "model_module": "@jupyter-widgets/controls",
          "model_name": "HTMLModel",
          "model_module_version": "1.5.0",
          "state": {
            "_dom_classes": [],
            "_model_module": "@jupyter-widgets/controls",
            "_model_module_version": "1.5.0",
            "_model_name": "HTMLModel",
            "_view_count": null,
            "_view_module": "@jupyter-widgets/controls",
            "_view_module_version": "1.5.0",
            "_view_name": "HTMLView",
            "description": "",
            "description_tooltip": null,
            "layout": "IPY_MODEL_5ed4723440fa4a1aafa76a861bf9dc4f",
            "placeholder": "​",
            "style": "IPY_MODEL_3c4b523da9cb4ce0aea380f64c3aca76",
            "value": " 4542/4542 [00:00&lt;00:00, 182490.31it/s]"
          }
        },
        "ddfe6487cbba4cf39dfec47c04b1c93e": {
          "model_module": "@jupyter-widgets/base",
          "model_name": "LayoutModel",
          "model_module_version": "1.2.0",
          "state": {
            "_model_module": "@jupyter-widgets/base",
            "_model_module_version": "1.2.0",
            "_model_name": "LayoutModel",
            "_view_count": null,
            "_view_module": "@jupyter-widgets/base",
            "_view_module_version": "1.2.0",
            "_view_name": "LayoutView",
            "align_content": null,
            "align_items": null,
            "align_self": null,
            "border": null,
            "bottom": null,
            "display": null,
            "flex": null,
            "flex_flow": null,
            "grid_area": null,
            "grid_auto_columns": null,
            "grid_auto_flow": null,
            "grid_auto_rows": null,
            "grid_column": null,
            "grid_gap": null,
            "grid_row": null,
            "grid_template_areas": null,
            "grid_template_columns": null,
            "grid_template_rows": null,
            "height": null,
            "justify_content": null,
            "justify_items": null,
            "left": null,
            "margin": null,
            "max_height": null,
            "max_width": null,
            "min_height": null,
            "min_width": null,
            "object_fit": null,
            "object_position": null,
            "order": null,
            "overflow": null,
            "overflow_x": null,
            "overflow_y": null,
            "padding": null,
            "right": null,
            "top": null,
            "visibility": null,
            "width": null
          }
        },
        "a7f53884c102461f862f6c3534e5e82a": {
          "model_module": "@jupyter-widgets/base",
          "model_name": "LayoutModel",
          "model_module_version": "1.2.0",
          "state": {
            "_model_module": "@jupyter-widgets/base",
            "_model_module_version": "1.2.0",
            "_model_name": "LayoutModel",
            "_view_count": null,
            "_view_module": "@jupyter-widgets/base",
            "_view_module_version": "1.2.0",
            "_view_name": "LayoutView",
            "align_content": null,
            "align_items": null,
            "align_self": null,
            "border": null,
            "bottom": null,
            "display": null,
            "flex": null,
            "flex_flow": null,
            "grid_area": null,
            "grid_auto_columns": null,
            "grid_auto_flow": null,
            "grid_auto_rows": null,
            "grid_column": null,
            "grid_gap": null,
            "grid_row": null,
            "grid_template_areas": null,
            "grid_template_columns": null,
            "grid_template_rows": null,
            "height": null,
            "justify_content": null,
            "justify_items": null,
            "left": null,
            "margin": null,
            "max_height": null,
            "max_width": null,
            "min_height": null,
            "min_width": null,
            "object_fit": null,
            "object_position": null,
            "order": null,
            "overflow": null,
            "overflow_x": null,
            "overflow_y": null,
            "padding": null,
            "right": null,
            "top": null,
            "visibility": null,
            "width": null
          }
        },
        "d788bb7dd7804649a8542b0af0f53aba": {
          "model_module": "@jupyter-widgets/controls",
          "model_name": "DescriptionStyleModel",
          "model_module_version": "1.5.0",
          "state": {
            "_model_module": "@jupyter-widgets/controls",
            "_model_module_version": "1.5.0",
            "_model_name": "DescriptionStyleModel",
            "_view_count": null,
            "_view_module": "@jupyter-widgets/base",
            "_view_module_version": "1.2.0",
            "_view_name": "StyleView",
            "description_width": ""
          }
        },
        "0eb547284dd54e3ba33a2cd7442114e4": {
          "model_module": "@jupyter-widgets/base",
          "model_name": "LayoutModel",
          "model_module_version": "1.2.0",
          "state": {
            "_model_module": "@jupyter-widgets/base",
            "_model_module_version": "1.2.0",
            "_model_name": "LayoutModel",
            "_view_count": null,
            "_view_module": "@jupyter-widgets/base",
            "_view_module_version": "1.2.0",
            "_view_name": "LayoutView",
            "align_content": null,
            "align_items": null,
            "align_self": null,
            "border": null,
            "bottom": null,
            "display": null,
            "flex": null,
            "flex_flow": null,
            "grid_area": null,
            "grid_auto_columns": null,
            "grid_auto_flow": null,
            "grid_auto_rows": null,
            "grid_column": null,
            "grid_gap": null,
            "grid_row": null,
            "grid_template_areas": null,
            "grid_template_columns": null,
            "grid_template_rows": null,
            "height": null,
            "justify_content": null,
            "justify_items": null,
            "left": null,
            "margin": null,
            "max_height": null,
            "max_width": null,
            "min_height": null,
            "min_width": null,
            "object_fit": null,
            "object_position": null,
            "order": null,
            "overflow": null,
            "overflow_x": null,
            "overflow_y": null,
            "padding": null,
            "right": null,
            "top": null,
            "visibility": null,
            "width": null
          }
        },
        "4a0c154fd4d3458d8d8917845b8eeea8": {
          "model_module": "@jupyter-widgets/controls",
          "model_name": "ProgressStyleModel",
          "model_module_version": "1.5.0",
          "state": {
            "_model_module": "@jupyter-widgets/controls",
            "_model_module_version": "1.5.0",
            "_model_name": "ProgressStyleModel",
            "_view_count": null,
            "_view_module": "@jupyter-widgets/base",
            "_view_module_version": "1.2.0",
            "_view_name": "StyleView",
            "bar_color": null,
            "description_width": ""
          }
        },
        "5ed4723440fa4a1aafa76a861bf9dc4f": {
          "model_module": "@jupyter-widgets/base",
          "model_name": "LayoutModel",
          "model_module_version": "1.2.0",
          "state": {
            "_model_module": "@jupyter-widgets/base",
            "_model_module_version": "1.2.0",
            "_model_name": "LayoutModel",
            "_view_count": null,
            "_view_module": "@jupyter-widgets/base",
            "_view_module_version": "1.2.0",
            "_view_name": "LayoutView",
            "align_content": null,
            "align_items": null,
            "align_self": null,
            "border": null,
            "bottom": null,
            "display": null,
            "flex": null,
            "flex_flow": null,
            "grid_area": null,
            "grid_auto_columns": null,
            "grid_auto_flow": null,
            "grid_auto_rows": null,
            "grid_column": null,
            "grid_gap": null,
            "grid_row": null,
            "grid_template_areas": null,
            "grid_template_columns": null,
            "grid_template_rows": null,
            "height": null,
            "justify_content": null,
            "justify_items": null,
            "left": null,
            "margin": null,
            "max_height": null,
            "max_width": null,
            "min_height": null,
            "min_width": null,
            "object_fit": null,
            "object_position": null,
            "order": null,
            "overflow": null,
            "overflow_x": null,
            "overflow_y": null,
            "padding": null,
            "right": null,
            "top": null,
            "visibility": null,
            "width": null
          }
        },
        "3c4b523da9cb4ce0aea380f64c3aca76": {
          "model_module": "@jupyter-widgets/controls",
          "model_name": "DescriptionStyleModel",
          "model_module_version": "1.5.0",
          "state": {
            "_model_module": "@jupyter-widgets/controls",
            "_model_module_version": "1.5.0",
            "_model_name": "DescriptionStyleModel",
            "_view_count": null,
            "_view_module": "@jupyter-widgets/base",
            "_view_module_version": "1.2.0",
            "_view_name": "StyleView",
            "description_width": ""
          }
        }
      }
    }
  },
  "nbformat": 4,
  "nbformat_minor": 0
}